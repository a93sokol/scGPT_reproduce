{
 "cells": [
  {
   "cell_type": "markdown",
   "metadata": {},
   "source": [
    "# Using a pre-trained model and extracting information about context specific feature impacts using Sampling Perturbation method for Transformers"
   ]
  },
  {
   "cell_type": "code",
   "execution_count": 1,
   "metadata": {},
   "outputs": [],
   "source": [
    "%load_ext autoreload\n",
    "%autoreload 2"
   ]
  },
  {
   "cell_type": "code",
   "execution_count": 2,
   "metadata": {},
   "outputs": [
    {
     "name": "stderr",
     "output_type": "stream",
     "text": [
      "/hpcfs/users/a1234104/miniconda3/envs/scGPT/lib/python3.10/site-packages/tqdm/auto.py:21: TqdmWarning: IProgress not found. Please update jupyter and ipywidgets. See https://ipywidgets.readthedocs.io/en/stable/user_install.html\n",
      "  from .autonotebook import tqdm as notebook_tqdm\n"
     ]
    }
   ],
   "source": [
    "import json\n",
    "import os\n",
    "import sys\n",
    "import time\n",
    "import copy\n",
    "from pathlib import Path\n",
    "from typing import Iterable, List, Tuple, Dict, Union, Optional\n",
    "import warnings\n",
    "\n",
    "import torch\n",
    "import numpy as np\n",
    "import matplotlib\n",
    "from torch import nn\n",
    "from torch.nn import functional as F\n",
    "from torchtext.vocab import Vocab\n",
    "from torchtext._torchtext import (\n",
    "    Vocab as VocabPybind,\n",
    ")\n",
    "from torch_geometric.loader import DataLoader\n",
    "from gears import PertData, GEARS\n",
    "from gears.inference import compute_metrics, deeper_analysis, non_dropout_analysis\n",
    "from gears.utils import create_cell_graph_dataset_for_prediction\n",
    "\n",
    "sys.path.insert(0, \"../\")\n",
    "\n",
    "import scgpt as scg\n",
    "from scgpt.model import TransformerGenerator\n",
    "from scgpt.loss import (\n",
    "    masked_mse_loss,\n",
    "    criterion_neg_log_bernoulli,\n",
    "    masked_relative_error,\n",
    ")\n",
    "from scgpt.tokenizer import tokenize_batch, pad_batch, tokenize_and_pad_batch\n",
    "from scgpt.tokenizer.gene_tokenizer import GeneVocab\n",
    "from scgpt.utils import set_seed, map_raw_id_to_vocab_id, compute_perturbation_metrics\n",
    "\n",
    "matplotlib.rcParams[\"savefig.transparent\"] = False\n",
    "warnings.filterwarnings(\"ignore\")\n",
    "\n",
    "set_seed(42)\n"
   ]
  },
  {
   "cell_type": "markdown",
   "metadata": {},
   "source": [
    " ## Training Settings"
   ]
  },
  {
   "cell_type": "code",
   "execution_count": 3,
   "metadata": {},
   "outputs": [],
   "source": [
    "# settings for data prcocessing\n",
    "pad_token = \"<pad>\"\n",
    "special_tokens = [pad_token, \"<cls>\", \"<eoc>\"]\n",
    "pad_value = 0  # for padding values\n",
    "pert_pad_id = 0\n",
    "include_zero_gene = \"all\"\n",
    "max_seq_len = 1536\n",
    "\n",
    "# settings for training\n",
    "MLM = True  # whether to use masked language modeling, currently it is always on.\n",
    "CLS = False  # celltype classification objective\n",
    "CCE = False  # Contrastive cell embedding objective\n",
    "MVC = False  # Masked value prediction for cell embedding\n",
    "ECS = False  # Elastic cell similarity objective\n",
    "amp = True\n",
    "load_model = \"../save/scGPT_human\"\n",
    "load_param_prefixs = [\n",
    "    \"encoder\",\n",
    "    \"value_encoder\",\n",
    "    \"transformer_encoder\",\n",
    "]\n",
    "\n",
    "# settings for optimizer\n",
    "lr = 1e-4  # or 1e-4\n",
    "batch_size = 64\n",
    "eval_batch_size = 64\n",
    "epochs = 3\n",
    "schedule_interval = 1\n",
    "early_stop = 10\n",
    "\n",
    "# settings for the model\n",
    "embsize = 512  # embedding dimension\n",
    "d_hid = 512  # dimension of the feedforward network model in nn.TransformerEncoder\n",
    "nlayers = 12  # number of nn.TransformerEncoderLayer in nn.TransformerEncoder\n",
    "nhead = 8  # number of heads in nn.MultiheadAttention\n",
    "n_layers_cls = 3\n",
    "dropout = 0  # dropout probability\n",
    "use_fast_transformer = True  # whether to use fast transformer\n",
    "\n",
    "# logging\n",
    "log_interval = 100\n",
    "\n",
    "device = torch.device(\"cuda\" if torch.cuda.is_available() else \"cpu\")\n"
   ]
  },
  {
   "cell_type": "code",
   "execution_count": 4,
   "metadata": {},
   "outputs": [
    {
     "name": "stderr",
     "output_type": "stream",
     "text": [
      "Local copy of pyg dataset is detected. Loading...\n",
      "Done!\n",
      "Local copy of split is detected. Loading...\n",
      "Done!\n",
      "Creating dataloaders....\n",
      "Dataloaders created...\n"
     ]
    },
    {
     "data": {
      "text/plain": [
       "{'test_loader': <torch_geometric.deprecation.DataLoader at 0x7fb2133b3700>}"
      ]
     },
     "execution_count": 4,
     "metadata": {},
     "output_type": "execute_result"
    }
   ],
   "source": [
    "pert_data = PertData(\"../data/\")\n",
    "pert_data.load(data_path='../data/fibroblast_p20-nr/')\n",
    "pert_data.prepare_split(split='no_split', seed=1)\n",
    "pert_data.get_dataloader(batch_size=batch_size, test_batch_size=eval_batch_size)"
   ]
  },
  {
   "cell_type": "code",
   "execution_count": 5,
   "metadata": {},
   "outputs": [
    {
     "name": "stdout",
     "output_type": "stream",
     "text": [
      "saving to save/dev_perturb_testing_sampling_pert-Oct17-09-46\n",
      "scGPT - INFO - Running on 2024-10-17 09:46:05\n"
     ]
    }
   ],
   "source": [
    "data_name = 'testing_sampling_pert'\n",
    "save_dir = Path(f\"./save/dev_perturb_{data_name}-{time.strftime('%b%d-%H-%M')}/\")\n",
    "save_dir.mkdir(parents=True, exist_ok=True)\n",
    "print(f\"saving to {save_dir}\")\n",
    "\n",
    "logger = scg.logger\n",
    "scg.utils.add_file_handler(logger, save_dir / \"run.log\")\n",
    "# log running date and current git commit\n",
    "logger.info(f\"Running on {time.strftime('%Y-%m-%d %H:%M:%S')}\")"
   ]
  },
  {
   "cell_type": "code",
   "execution_count": 6,
   "metadata": {},
   "outputs": [
    {
     "name": "stdout",
     "output_type": "stream",
     "text": [
      "scGPT - INFO - match 17315/17315 genes in vocabulary of size 60697.\n",
      "scGPT - INFO - Resume model from ../save/scGPT_human/best_model.pt, the model args will override the config ../save/scGPT_human/args.json.\n"
     ]
    }
   ],
   "source": [
    "if load_model is not None:\n",
    "    model_dir = Path(load_model)\n",
    "    model_config_file = model_dir / \"args.json\"\n",
    "    model_file = model_dir / \"best_model.pt\"\n",
    "    vocab_file = model_dir / \"vocab.json\"\n",
    "\n",
    "    vocab = GeneVocab.from_file(vocab_file)\n",
    "    for s in special_tokens:\n",
    "        if s not in vocab:\n",
    "            vocab.append_token(s)\n",
    "\n",
    "    pert_data.adata.var[\"id_in_vocab\"] = [\n",
    "        1 if gene in vocab else -1 for gene in pert_data.adata.var[\"gene_name\"]\n",
    "    ]\n",
    "    gene_ids_in_vocab = np.array(pert_data.adata.var[\"id_in_vocab\"])\n",
    "    logger.info(\n",
    "        f\"match {np.sum(gene_ids_in_vocab >= 0)}/{len(gene_ids_in_vocab)} genes \"\n",
    "        f\"in vocabulary of size {len(vocab)}.\"\n",
    "    )\n",
    "    genes = pert_data.adata.var[\"gene_name\"].tolist()\n",
    "\n",
    "    # model\n",
    "    with open(model_config_file, \"r\") as f:\n",
    "        model_configs = json.load(f)\n",
    "    logger.info(\n",
    "        f\"Resume model from {model_file}, the model args will override the \"\n",
    "        f\"config {model_config_file}.\"\n",
    "    )\n",
    "    embsize = model_configs[\"embsize\"]\n",
    "    nhead = model_configs[\"nheads\"]\n",
    "    d_hid = model_configs[\"d_hid\"]\n",
    "    nlayers = model_configs[\"nlayers\"]\n",
    "    n_layers_cls = model_configs[\"n_layers_cls\"]\n",
    "else:\n",
    "    genes = pert_data.adata.var[\"gene_name\"].tolist()\n",
    "    vocab = Vocab(\n",
    "        VocabPybind(genes + special_tokens, None)\n",
    "    )  # bidirectional lookup [gene <-> int]\n",
    "vocab.set_default_index(vocab[\"<pad>\"])\n",
    "gene_ids = np.array(\n",
    "    [vocab[gene] if gene in vocab else vocab[\"<pad>\"] for gene in genes], dtype=int\n",
    ")\n",
    "n_genes = len(genes)\n",
    "\n"
   ]
  },
  {
   "cell_type": "markdown",
   "metadata": {},
   "source": [
    " # Create and train scGpt"
   ]
  },
  {
   "cell_type": "code",
   "execution_count": 7,
   "metadata": {},
   "outputs": [],
   "source": [
    "from scgpt.model import TransformerModel"
   ]
  },
  {
   "cell_type": "code",
   "execution_count": 8,
   "metadata": {
    "scrolled": true
   },
   "outputs": [
    {
     "name": "stdout",
     "output_type": "stream",
     "text": [
      "scGPT - INFO - Loading params encoder.embedding.weight with shape torch.Size([60697, 512])\n",
      "scGPT - INFO - Loading params encoder.enc_norm.weight with shape torch.Size([512])\n",
      "scGPT - INFO - Loading params encoder.enc_norm.bias with shape torch.Size([512])\n",
      "scGPT - INFO - Loading params value_encoder.linear1.weight with shape torch.Size([512, 1])\n",
      "scGPT - INFO - Loading params value_encoder.linear1.bias with shape torch.Size([512])\n",
      "scGPT - INFO - Loading params value_encoder.linear2.weight with shape torch.Size([512, 512])\n",
      "scGPT - INFO - Loading params value_encoder.linear2.bias with shape torch.Size([512])\n",
      "scGPT - INFO - Loading params value_encoder.norm.weight with shape torch.Size([512])\n",
      "scGPT - INFO - Loading params value_encoder.norm.bias with shape torch.Size([512])\n",
      "scGPT - INFO - Loading params transformer_encoder.layers.0.self_attn.Wqkv.weight with shape torch.Size([1536, 512])\n",
      "scGPT - INFO - Loading params transformer_encoder.layers.0.self_attn.Wqkv.bias with shape torch.Size([1536])\n",
      "scGPT - INFO - Loading params transformer_encoder.layers.0.self_attn.out_proj.weight with shape torch.Size([512, 512])\n",
      "scGPT - INFO - Loading params transformer_encoder.layers.0.self_attn.out_proj.bias with shape torch.Size([512])\n",
      "scGPT - INFO - Loading params transformer_encoder.layers.0.linear1.weight with shape torch.Size([512, 512])\n",
      "scGPT - INFO - Loading params transformer_encoder.layers.0.linear1.bias with shape torch.Size([512])\n",
      "scGPT - INFO - Loading params transformer_encoder.layers.0.linear2.weight with shape torch.Size([512, 512])\n",
      "scGPT - INFO - Loading params transformer_encoder.layers.0.linear2.bias with shape torch.Size([512])\n",
      "scGPT - INFO - Loading params transformer_encoder.layers.0.norm1.weight with shape torch.Size([512])\n",
      "scGPT - INFO - Loading params transformer_encoder.layers.0.norm1.bias with shape torch.Size([512])\n",
      "scGPT - INFO - Loading params transformer_encoder.layers.0.norm2.weight with shape torch.Size([512])\n",
      "scGPT - INFO - Loading params transformer_encoder.layers.0.norm2.bias with shape torch.Size([512])\n",
      "scGPT - INFO - Loading params transformer_encoder.layers.1.self_attn.Wqkv.weight with shape torch.Size([1536, 512])\n",
      "scGPT - INFO - Loading params transformer_encoder.layers.1.self_attn.Wqkv.bias with shape torch.Size([1536])\n",
      "scGPT - INFO - Loading params transformer_encoder.layers.1.self_attn.out_proj.weight with shape torch.Size([512, 512])\n",
      "scGPT - INFO - Loading params transformer_encoder.layers.1.self_attn.out_proj.bias with shape torch.Size([512])\n",
      "scGPT - INFO - Loading params transformer_encoder.layers.1.linear1.weight with shape torch.Size([512, 512])\n",
      "scGPT - INFO - Loading params transformer_encoder.layers.1.linear1.bias with shape torch.Size([512])\n",
      "scGPT - INFO - Loading params transformer_encoder.layers.1.linear2.weight with shape torch.Size([512, 512])\n",
      "scGPT - INFO - Loading params transformer_encoder.layers.1.linear2.bias with shape torch.Size([512])\n",
      "scGPT - INFO - Loading params transformer_encoder.layers.1.norm1.weight with shape torch.Size([512])\n",
      "scGPT - INFO - Loading params transformer_encoder.layers.1.norm1.bias with shape torch.Size([512])\n",
      "scGPT - INFO - Loading params transformer_encoder.layers.1.norm2.weight with shape torch.Size([512])\n",
      "scGPT - INFO - Loading params transformer_encoder.layers.1.norm2.bias with shape torch.Size([512])\n",
      "scGPT - INFO - Loading params transformer_encoder.layers.2.self_attn.Wqkv.weight with shape torch.Size([1536, 512])\n",
      "scGPT - INFO - Loading params transformer_encoder.layers.2.self_attn.Wqkv.bias with shape torch.Size([1536])\n",
      "scGPT - INFO - Loading params transformer_encoder.layers.2.self_attn.out_proj.weight with shape torch.Size([512, 512])\n",
      "scGPT - INFO - Loading params transformer_encoder.layers.2.self_attn.out_proj.bias with shape torch.Size([512])\n",
      "scGPT - INFO - Loading params transformer_encoder.layers.2.linear1.weight with shape torch.Size([512, 512])\n",
      "scGPT - INFO - Loading params transformer_encoder.layers.2.linear1.bias with shape torch.Size([512])\n",
      "scGPT - INFO - Loading params transformer_encoder.layers.2.linear2.weight with shape torch.Size([512, 512])\n",
      "scGPT - INFO - Loading params transformer_encoder.layers.2.linear2.bias with shape torch.Size([512])\n",
      "scGPT - INFO - Loading params transformer_encoder.layers.2.norm1.weight with shape torch.Size([512])\n",
      "scGPT - INFO - Loading params transformer_encoder.layers.2.norm1.bias with shape torch.Size([512])\n",
      "scGPT - INFO - Loading params transformer_encoder.layers.2.norm2.weight with shape torch.Size([512])\n",
      "scGPT - INFO - Loading params transformer_encoder.layers.2.norm2.bias with shape torch.Size([512])\n",
      "scGPT - INFO - Loading params transformer_encoder.layers.3.self_attn.Wqkv.weight with shape torch.Size([1536, 512])\n",
      "scGPT - INFO - Loading params transformer_encoder.layers.3.self_attn.Wqkv.bias with shape torch.Size([1536])\n",
      "scGPT - INFO - Loading params transformer_encoder.layers.3.self_attn.out_proj.weight with shape torch.Size([512, 512])\n",
      "scGPT - INFO - Loading params transformer_encoder.layers.3.self_attn.out_proj.bias with shape torch.Size([512])\n",
      "scGPT - INFO - Loading params transformer_encoder.layers.3.linear1.weight with shape torch.Size([512, 512])\n",
      "scGPT - INFO - Loading params transformer_encoder.layers.3.linear1.bias with shape torch.Size([512])\n",
      "scGPT - INFO - Loading params transformer_encoder.layers.3.linear2.weight with shape torch.Size([512, 512])\n",
      "scGPT - INFO - Loading params transformer_encoder.layers.3.linear2.bias with shape torch.Size([512])\n",
      "scGPT - INFO - Loading params transformer_encoder.layers.3.norm1.weight with shape torch.Size([512])\n",
      "scGPT - INFO - Loading params transformer_encoder.layers.3.norm1.bias with shape torch.Size([512])\n",
      "scGPT - INFO - Loading params transformer_encoder.layers.3.norm2.weight with shape torch.Size([512])\n",
      "scGPT - INFO - Loading params transformer_encoder.layers.3.norm2.bias with shape torch.Size([512])\n",
      "scGPT - INFO - Loading params transformer_encoder.layers.4.self_attn.Wqkv.weight with shape torch.Size([1536, 512])\n",
      "scGPT - INFO - Loading params transformer_encoder.layers.4.self_attn.Wqkv.bias with shape torch.Size([1536])\n",
      "scGPT - INFO - Loading params transformer_encoder.layers.4.self_attn.out_proj.weight with shape torch.Size([512, 512])\n",
      "scGPT - INFO - Loading params transformer_encoder.layers.4.self_attn.out_proj.bias with shape torch.Size([512])\n",
      "scGPT - INFO - Loading params transformer_encoder.layers.4.linear1.weight with shape torch.Size([512, 512])\n",
      "scGPT - INFO - Loading params transformer_encoder.layers.4.linear1.bias with shape torch.Size([512])\n",
      "scGPT - INFO - Loading params transformer_encoder.layers.4.linear2.weight with shape torch.Size([512, 512])\n",
      "scGPT - INFO - Loading params transformer_encoder.layers.4.linear2.bias with shape torch.Size([512])\n",
      "scGPT - INFO - Loading params transformer_encoder.layers.4.norm1.weight with shape torch.Size([512])\n",
      "scGPT - INFO - Loading params transformer_encoder.layers.4.norm1.bias with shape torch.Size([512])\n",
      "scGPT - INFO - Loading params transformer_encoder.layers.4.norm2.weight with shape torch.Size([512])\n",
      "scGPT - INFO - Loading params transformer_encoder.layers.4.norm2.bias with shape torch.Size([512])\n",
      "scGPT - INFO - Loading params transformer_encoder.layers.5.self_attn.Wqkv.weight with shape torch.Size([1536, 512])\n",
      "scGPT - INFO - Loading params transformer_encoder.layers.5.self_attn.Wqkv.bias with shape torch.Size([1536])\n",
      "scGPT - INFO - Loading params transformer_encoder.layers.5.self_attn.out_proj.weight with shape torch.Size([512, 512])\n",
      "scGPT - INFO - Loading params transformer_encoder.layers.5.self_attn.out_proj.bias with shape torch.Size([512])\n",
      "scGPT - INFO - Loading params transformer_encoder.layers.5.linear1.weight with shape torch.Size([512, 512])\n",
      "scGPT - INFO - Loading params transformer_encoder.layers.5.linear1.bias with shape torch.Size([512])\n",
      "scGPT - INFO - Loading params transformer_encoder.layers.5.linear2.weight with shape torch.Size([512, 512])\n",
      "scGPT - INFO - Loading params transformer_encoder.layers.5.linear2.bias with shape torch.Size([512])\n",
      "scGPT - INFO - Loading params transformer_encoder.layers.5.norm1.weight with shape torch.Size([512])\n",
      "scGPT - INFO - Loading params transformer_encoder.layers.5.norm1.bias with shape torch.Size([512])\n",
      "scGPT - INFO - Loading params transformer_encoder.layers.5.norm2.weight with shape torch.Size([512])\n",
      "scGPT - INFO - Loading params transformer_encoder.layers.5.norm2.bias with shape torch.Size([512])\n",
      "scGPT - INFO - Loading params transformer_encoder.layers.6.self_attn.Wqkv.weight with shape torch.Size([1536, 512])\n",
      "scGPT - INFO - Loading params transformer_encoder.layers.6.self_attn.Wqkv.bias with shape torch.Size([1536])\n",
      "scGPT - INFO - Loading params transformer_encoder.layers.6.self_attn.out_proj.weight with shape torch.Size([512, 512])\n",
      "scGPT - INFO - Loading params transformer_encoder.layers.6.self_attn.out_proj.bias with shape torch.Size([512])\n",
      "scGPT - INFO - Loading params transformer_encoder.layers.6.linear1.weight with shape torch.Size([512, 512])\n",
      "scGPT - INFO - Loading params transformer_encoder.layers.6.linear1.bias with shape torch.Size([512])\n",
      "scGPT - INFO - Loading params transformer_encoder.layers.6.linear2.weight with shape torch.Size([512, 512])\n",
      "scGPT - INFO - Loading params transformer_encoder.layers.6.linear2.bias with shape torch.Size([512])\n",
      "scGPT - INFO - Loading params transformer_encoder.layers.6.norm1.weight with shape torch.Size([512])\n",
      "scGPT - INFO - Loading params transformer_encoder.layers.6.norm1.bias with shape torch.Size([512])\n",
      "scGPT - INFO - Loading params transformer_encoder.layers.6.norm2.weight with shape torch.Size([512])\n",
      "scGPT - INFO - Loading params transformer_encoder.layers.6.norm2.bias with shape torch.Size([512])\n",
      "scGPT - INFO - Loading params transformer_encoder.layers.7.self_attn.Wqkv.weight with shape torch.Size([1536, 512])\n",
      "scGPT - INFO - Loading params transformer_encoder.layers.7.self_attn.Wqkv.bias with shape torch.Size([1536])\n",
      "scGPT - INFO - Loading params transformer_encoder.layers.7.self_attn.out_proj.weight with shape torch.Size([512, 512])\n",
      "scGPT - INFO - Loading params transformer_encoder.layers.7.self_attn.out_proj.bias with shape torch.Size([512])\n",
      "scGPT - INFO - Loading params transformer_encoder.layers.7.linear1.weight with shape torch.Size([512, 512])\n",
      "scGPT - INFO - Loading params transformer_encoder.layers.7.linear1.bias with shape torch.Size([512])\n",
      "scGPT - INFO - Loading params transformer_encoder.layers.7.linear2.weight with shape torch.Size([512, 512])\n",
      "scGPT - INFO - Loading params transformer_encoder.layers.7.linear2.bias with shape torch.Size([512])\n",
      "scGPT - INFO - Loading params transformer_encoder.layers.7.norm1.weight with shape torch.Size([512])\n",
      "scGPT - INFO - Loading params transformer_encoder.layers.7.norm1.bias with shape torch.Size([512])\n",
      "scGPT - INFO - Loading params transformer_encoder.layers.7.norm2.weight with shape torch.Size([512])\n",
      "scGPT - INFO - Loading params transformer_encoder.layers.7.norm2.bias with shape torch.Size([512])\n",
      "scGPT - INFO - Loading params transformer_encoder.layers.8.self_attn.Wqkv.weight with shape torch.Size([1536, 512])\n",
      "scGPT - INFO - Loading params transformer_encoder.layers.8.self_attn.Wqkv.bias with shape torch.Size([1536])\n",
      "scGPT - INFO - Loading params transformer_encoder.layers.8.self_attn.out_proj.weight with shape torch.Size([512, 512])\n",
      "scGPT - INFO - Loading params transformer_encoder.layers.8.self_attn.out_proj.bias with shape torch.Size([512])\n",
      "scGPT - INFO - Loading params transformer_encoder.layers.8.linear1.weight with shape torch.Size([512, 512])\n",
      "scGPT - INFO - Loading params transformer_encoder.layers.8.linear1.bias with shape torch.Size([512])\n",
      "scGPT - INFO - Loading params transformer_encoder.layers.8.linear2.weight with shape torch.Size([512, 512])\n",
      "scGPT - INFO - Loading params transformer_encoder.layers.8.linear2.bias with shape torch.Size([512])\n",
      "scGPT - INFO - Loading params transformer_encoder.layers.8.norm1.weight with shape torch.Size([512])\n",
      "scGPT - INFO - Loading params transformer_encoder.layers.8.norm1.bias with shape torch.Size([512])\n",
      "scGPT - INFO - Loading params transformer_encoder.layers.8.norm2.weight with shape torch.Size([512])\n",
      "scGPT - INFO - Loading params transformer_encoder.layers.8.norm2.bias with shape torch.Size([512])\n",
      "scGPT - INFO - Loading params transformer_encoder.layers.9.self_attn.Wqkv.weight with shape torch.Size([1536, 512])\n",
      "scGPT - INFO - Loading params transformer_encoder.layers.9.self_attn.Wqkv.bias with shape torch.Size([1536])\n",
      "scGPT - INFO - Loading params transformer_encoder.layers.9.self_attn.out_proj.weight with shape torch.Size([512, 512])\n",
      "scGPT - INFO - Loading params transformer_encoder.layers.9.self_attn.out_proj.bias with shape torch.Size([512])\n",
      "scGPT - INFO - Loading params transformer_encoder.layers.9.linear1.weight with shape torch.Size([512, 512])\n",
      "scGPT - INFO - Loading params transformer_encoder.layers.9.linear1.bias with shape torch.Size([512])\n",
      "scGPT - INFO - Loading params transformer_encoder.layers.9.linear2.weight with shape torch.Size([512, 512])\n",
      "scGPT - INFO - Loading params transformer_encoder.layers.9.linear2.bias with shape torch.Size([512])\n",
      "scGPT - INFO - Loading params transformer_encoder.layers.9.norm1.weight with shape torch.Size([512])\n",
      "scGPT - INFO - Loading params transformer_encoder.layers.9.norm1.bias with shape torch.Size([512])\n",
      "scGPT - INFO - Loading params transformer_encoder.layers.9.norm2.weight with shape torch.Size([512])\n",
      "scGPT - INFO - Loading params transformer_encoder.layers.9.norm2.bias with shape torch.Size([512])\n",
      "scGPT - INFO - Loading params transformer_encoder.layers.10.self_attn.Wqkv.weight with shape torch.Size([1536, 512])\n",
      "scGPT - INFO - Loading params transformer_encoder.layers.10.self_attn.Wqkv.bias with shape torch.Size([1536])\n",
      "scGPT - INFO - Loading params transformer_encoder.layers.10.self_attn.out_proj.weight with shape torch.Size([512, 512])\n",
      "scGPT - INFO - Loading params transformer_encoder.layers.10.self_attn.out_proj.bias with shape torch.Size([512])\n",
      "scGPT - INFO - Loading params transformer_encoder.layers.10.linear1.weight with shape torch.Size([512, 512])\n",
      "scGPT - INFO - Loading params transformer_encoder.layers.10.linear1.bias with shape torch.Size([512])\n",
      "scGPT - INFO - Loading params transformer_encoder.layers.10.linear2.weight with shape torch.Size([512, 512])\n",
      "scGPT - INFO - Loading params transformer_encoder.layers.10.linear2.bias with shape torch.Size([512])\n",
      "scGPT - INFO - Loading params transformer_encoder.layers.10.norm1.weight with shape torch.Size([512])\n",
      "scGPT - INFO - Loading params transformer_encoder.layers.10.norm1.bias with shape torch.Size([512])\n",
      "scGPT - INFO - Loading params transformer_encoder.layers.10.norm2.weight with shape torch.Size([512])\n",
      "scGPT - INFO - Loading params transformer_encoder.layers.10.norm2.bias with shape torch.Size([512])\n",
      "scGPT - INFO - Loading params transformer_encoder.layers.11.self_attn.Wqkv.weight with shape torch.Size([1536, 512])\n",
      "scGPT - INFO - Loading params transformer_encoder.layers.11.self_attn.Wqkv.bias with shape torch.Size([1536])\n",
      "scGPT - INFO - Loading params transformer_encoder.layers.11.self_attn.out_proj.weight with shape torch.Size([512, 512])\n",
      "scGPT - INFO - Loading params transformer_encoder.layers.11.self_attn.out_proj.bias with shape torch.Size([512])\n",
      "scGPT - INFO - Loading params transformer_encoder.layers.11.linear1.weight with shape torch.Size([512, 512])\n",
      "scGPT - INFO - Loading params transformer_encoder.layers.11.linear1.bias with shape torch.Size([512])\n",
      "scGPT - INFO - Loading params transformer_encoder.layers.11.linear2.weight with shape torch.Size([512, 512])\n",
      "scGPT - INFO - Loading params transformer_encoder.layers.11.linear2.bias with shape torch.Size([512])\n",
      "scGPT - INFO - Loading params transformer_encoder.layers.11.norm1.weight with shape torch.Size([512])\n",
      "scGPT - INFO - Loading params transformer_encoder.layers.11.norm1.bias with shape torch.Size([512])\n",
      "scGPT - INFO - Loading params transformer_encoder.layers.11.norm2.weight with shape torch.Size([512])\n",
      "scGPT - INFO - Loading params transformer_encoder.layers.11.norm2.bias with shape torch.Size([512])\n"
     ]
    },
    {
     "data": {
      "text/plain": [
       "TransformerModel(\n",
       "  (encoder): GeneEncoder(\n",
       "    (embedding): Embedding(60697, 512, padding_idx=60694)\n",
       "    (enc_norm): LayerNorm((512,), eps=1e-05, elementwise_affine=True)\n",
       "  )\n",
       "  (value_encoder): ContinuousValueEncoder(\n",
       "    (dropout): Dropout(p=0, inplace=False)\n",
       "    (linear1): Linear(in_features=1, out_features=512, bias=True)\n",
       "    (activation): ReLU()\n",
       "    (linear2): Linear(in_features=512, out_features=512, bias=True)\n",
       "    (norm): LayerNorm((512,), eps=1e-05, elementwise_affine=True)\n",
       "  )\n",
       "  (transformer_encoder): TransformerEncoder(\n",
       "    (layers): ModuleList(\n",
       "      (0): FlashTransformerEncoderLayer(\n",
       "        (self_attn): FlashMHA(\n",
       "          (Wqkv): Linear(in_features=512, out_features=1536, bias=True)\n",
       "          (inner_attn): FlashAttention()\n",
       "          (out_proj): Linear(in_features=512, out_features=512, bias=True)\n",
       "        )\n",
       "        (linear1): Linear(in_features=512, out_features=512, bias=True)\n",
       "        (dropout): Dropout(p=0, inplace=False)\n",
       "        (linear2): Linear(in_features=512, out_features=512, bias=True)\n",
       "        (norm1): LayerNorm((512,), eps=1e-05, elementwise_affine=True)\n",
       "        (norm2): LayerNorm((512,), eps=1e-05, elementwise_affine=True)\n",
       "        (dropout1): Dropout(p=0, inplace=False)\n",
       "        (dropout2): Dropout(p=0, inplace=False)\n",
       "      )\n",
       "      (1): FlashTransformerEncoderLayer(\n",
       "        (self_attn): FlashMHA(\n",
       "          (Wqkv): Linear(in_features=512, out_features=1536, bias=True)\n",
       "          (inner_attn): FlashAttention()\n",
       "          (out_proj): Linear(in_features=512, out_features=512, bias=True)\n",
       "        )\n",
       "        (linear1): Linear(in_features=512, out_features=512, bias=True)\n",
       "        (dropout): Dropout(p=0, inplace=False)\n",
       "        (linear2): Linear(in_features=512, out_features=512, bias=True)\n",
       "        (norm1): LayerNorm((512,), eps=1e-05, elementwise_affine=True)\n",
       "        (norm2): LayerNorm((512,), eps=1e-05, elementwise_affine=True)\n",
       "        (dropout1): Dropout(p=0, inplace=False)\n",
       "        (dropout2): Dropout(p=0, inplace=False)\n",
       "      )\n",
       "      (2): FlashTransformerEncoderLayer(\n",
       "        (self_attn): FlashMHA(\n",
       "          (Wqkv): Linear(in_features=512, out_features=1536, bias=True)\n",
       "          (inner_attn): FlashAttention()\n",
       "          (out_proj): Linear(in_features=512, out_features=512, bias=True)\n",
       "        )\n",
       "        (linear1): Linear(in_features=512, out_features=512, bias=True)\n",
       "        (dropout): Dropout(p=0, inplace=False)\n",
       "        (linear2): Linear(in_features=512, out_features=512, bias=True)\n",
       "        (norm1): LayerNorm((512,), eps=1e-05, elementwise_affine=True)\n",
       "        (norm2): LayerNorm((512,), eps=1e-05, elementwise_affine=True)\n",
       "        (dropout1): Dropout(p=0, inplace=False)\n",
       "        (dropout2): Dropout(p=0, inplace=False)\n",
       "      )\n",
       "      (3): FlashTransformerEncoderLayer(\n",
       "        (self_attn): FlashMHA(\n",
       "          (Wqkv): Linear(in_features=512, out_features=1536, bias=True)\n",
       "          (inner_attn): FlashAttention()\n",
       "          (out_proj): Linear(in_features=512, out_features=512, bias=True)\n",
       "        )\n",
       "        (linear1): Linear(in_features=512, out_features=512, bias=True)\n",
       "        (dropout): Dropout(p=0, inplace=False)\n",
       "        (linear2): Linear(in_features=512, out_features=512, bias=True)\n",
       "        (norm1): LayerNorm((512,), eps=1e-05, elementwise_affine=True)\n",
       "        (norm2): LayerNorm((512,), eps=1e-05, elementwise_affine=True)\n",
       "        (dropout1): Dropout(p=0, inplace=False)\n",
       "        (dropout2): Dropout(p=0, inplace=False)\n",
       "      )\n",
       "      (4): FlashTransformerEncoderLayer(\n",
       "        (self_attn): FlashMHA(\n",
       "          (Wqkv): Linear(in_features=512, out_features=1536, bias=True)\n",
       "          (inner_attn): FlashAttention()\n",
       "          (out_proj): Linear(in_features=512, out_features=512, bias=True)\n",
       "        )\n",
       "        (linear1): Linear(in_features=512, out_features=512, bias=True)\n",
       "        (dropout): Dropout(p=0, inplace=False)\n",
       "        (linear2): Linear(in_features=512, out_features=512, bias=True)\n",
       "        (norm1): LayerNorm((512,), eps=1e-05, elementwise_affine=True)\n",
       "        (norm2): LayerNorm((512,), eps=1e-05, elementwise_affine=True)\n",
       "        (dropout1): Dropout(p=0, inplace=False)\n",
       "        (dropout2): Dropout(p=0, inplace=False)\n",
       "      )\n",
       "      (5): FlashTransformerEncoderLayer(\n",
       "        (self_attn): FlashMHA(\n",
       "          (Wqkv): Linear(in_features=512, out_features=1536, bias=True)\n",
       "          (inner_attn): FlashAttention()\n",
       "          (out_proj): Linear(in_features=512, out_features=512, bias=True)\n",
       "        )\n",
       "        (linear1): Linear(in_features=512, out_features=512, bias=True)\n",
       "        (dropout): Dropout(p=0, inplace=False)\n",
       "        (linear2): Linear(in_features=512, out_features=512, bias=True)\n",
       "        (norm1): LayerNorm((512,), eps=1e-05, elementwise_affine=True)\n",
       "        (norm2): LayerNorm((512,), eps=1e-05, elementwise_affine=True)\n",
       "        (dropout1): Dropout(p=0, inplace=False)\n",
       "        (dropout2): Dropout(p=0, inplace=False)\n",
       "      )\n",
       "      (6): FlashTransformerEncoderLayer(\n",
       "        (self_attn): FlashMHA(\n",
       "          (Wqkv): Linear(in_features=512, out_features=1536, bias=True)\n",
       "          (inner_attn): FlashAttention()\n",
       "          (out_proj): Linear(in_features=512, out_features=512, bias=True)\n",
       "        )\n",
       "        (linear1): Linear(in_features=512, out_features=512, bias=True)\n",
       "        (dropout): Dropout(p=0, inplace=False)\n",
       "        (linear2): Linear(in_features=512, out_features=512, bias=True)\n",
       "        (norm1): LayerNorm((512,), eps=1e-05, elementwise_affine=True)\n",
       "        (norm2): LayerNorm((512,), eps=1e-05, elementwise_affine=True)\n",
       "        (dropout1): Dropout(p=0, inplace=False)\n",
       "        (dropout2): Dropout(p=0, inplace=False)\n",
       "      )\n",
       "      (7): FlashTransformerEncoderLayer(\n",
       "        (self_attn): FlashMHA(\n",
       "          (Wqkv): Linear(in_features=512, out_features=1536, bias=True)\n",
       "          (inner_attn): FlashAttention()\n",
       "          (out_proj): Linear(in_features=512, out_features=512, bias=True)\n",
       "        )\n",
       "        (linear1): Linear(in_features=512, out_features=512, bias=True)\n",
       "        (dropout): Dropout(p=0, inplace=False)\n",
       "        (linear2): Linear(in_features=512, out_features=512, bias=True)\n",
       "        (norm1): LayerNorm((512,), eps=1e-05, elementwise_affine=True)\n",
       "        (norm2): LayerNorm((512,), eps=1e-05, elementwise_affine=True)\n",
       "        (dropout1): Dropout(p=0, inplace=False)\n",
       "        (dropout2): Dropout(p=0, inplace=False)\n",
       "      )\n",
       "      (8): FlashTransformerEncoderLayer(\n",
       "        (self_attn): FlashMHA(\n",
       "          (Wqkv): Linear(in_features=512, out_features=1536, bias=True)\n",
       "          (inner_attn): FlashAttention()\n",
       "          (out_proj): Linear(in_features=512, out_features=512, bias=True)\n",
       "        )\n",
       "        (linear1): Linear(in_features=512, out_features=512, bias=True)\n",
       "        (dropout): Dropout(p=0, inplace=False)\n",
       "        (linear2): Linear(in_features=512, out_features=512, bias=True)\n",
       "        (norm1): LayerNorm((512,), eps=1e-05, elementwise_affine=True)\n",
       "        (norm2): LayerNorm((512,), eps=1e-05, elementwise_affine=True)\n",
       "        (dropout1): Dropout(p=0, inplace=False)\n",
       "        (dropout2): Dropout(p=0, inplace=False)\n",
       "      )\n",
       "      (9): FlashTransformerEncoderLayer(\n",
       "        (self_attn): FlashMHA(\n",
       "          (Wqkv): Linear(in_features=512, out_features=1536, bias=True)\n",
       "          (inner_attn): FlashAttention()\n",
       "          (out_proj): Linear(in_features=512, out_features=512, bias=True)\n",
       "        )\n",
       "        (linear1): Linear(in_features=512, out_features=512, bias=True)\n",
       "        (dropout): Dropout(p=0, inplace=False)\n",
       "        (linear2): Linear(in_features=512, out_features=512, bias=True)\n",
       "        (norm1): LayerNorm((512,), eps=1e-05, elementwise_affine=True)\n",
       "        (norm2): LayerNorm((512,), eps=1e-05, elementwise_affine=True)\n",
       "        (dropout1): Dropout(p=0, inplace=False)\n",
       "        (dropout2): Dropout(p=0, inplace=False)\n",
       "      )\n",
       "      (10): FlashTransformerEncoderLayer(\n",
       "        (self_attn): FlashMHA(\n",
       "          (Wqkv): Linear(in_features=512, out_features=1536, bias=True)\n",
       "          (inner_attn): FlashAttention()\n",
       "          (out_proj): Linear(in_features=512, out_features=512, bias=True)\n",
       "        )\n",
       "        (linear1): Linear(in_features=512, out_features=512, bias=True)\n",
       "        (dropout): Dropout(p=0, inplace=False)\n",
       "        (linear2): Linear(in_features=512, out_features=512, bias=True)\n",
       "        (norm1): LayerNorm((512,), eps=1e-05, elementwise_affine=True)\n",
       "        (norm2): LayerNorm((512,), eps=1e-05, elementwise_affine=True)\n",
       "        (dropout1): Dropout(p=0, inplace=False)\n",
       "        (dropout2): Dropout(p=0, inplace=False)\n",
       "      )\n",
       "      (11): FlashTransformerEncoderLayer(\n",
       "        (self_attn): FlashMHA(\n",
       "          (Wqkv): Linear(in_features=512, out_features=1536, bias=True)\n",
       "          (inner_attn): FlashAttention()\n",
       "          (out_proj): Linear(in_features=512, out_features=512, bias=True)\n",
       "        )\n",
       "        (linear1): Linear(in_features=512, out_features=512, bias=True)\n",
       "        (dropout): Dropout(p=0, inplace=False)\n",
       "        (linear2): Linear(in_features=512, out_features=512, bias=True)\n",
       "        (norm1): LayerNorm((512,), eps=1e-05, elementwise_affine=True)\n",
       "        (norm2): LayerNorm((512,), eps=1e-05, elementwise_affine=True)\n",
       "        (dropout1): Dropout(p=0, inplace=False)\n",
       "        (dropout2): Dropout(p=0, inplace=False)\n",
       "      )\n",
       "    )\n",
       "  )\n",
       "  (decoder): ExprDecoder(\n",
       "    (fc): Sequential(\n",
       "      (0): Linear(in_features=512, out_features=512, bias=True)\n",
       "      (1): LeakyReLU(negative_slope=0.01)\n",
       "      (2): Linear(in_features=512, out_features=512, bias=True)\n",
       "      (3): LeakyReLU(negative_slope=0.01)\n",
       "      (4): Linear(in_features=512, out_features=1, bias=True)\n",
       "    )\n",
       "  )\n",
       "  (cls_decoder): ClsDecoder(\n",
       "    (_decoder): ModuleList(\n",
       "      (0): Linear(in_features=512, out_features=512, bias=True)\n",
       "      (1): ReLU()\n",
       "      (2): LayerNorm((512,), eps=1e-05, elementwise_affine=True)\n",
       "      (3): Linear(in_features=512, out_features=512, bias=True)\n",
       "      (4): ReLU()\n",
       "      (5): LayerNorm((512,), eps=1e-05, elementwise_affine=True)\n",
       "    )\n",
       "    (out_layer): Linear(in_features=512, out_features=1, bias=True)\n",
       "  )\n",
       "  (sim): Similarity(\n",
       "    (cos): CosineSimilarity()\n",
       "  )\n",
       "  (creterion_cce): CrossEntropyLoss()\n",
       ")"
      ]
     },
     "execution_count": 8,
     "metadata": {},
     "output_type": "execute_result"
    }
   ],
   "source": [
    "ntokens = len(vocab)  # size of vocabulary\n",
    "model = TransformerModel(\n",
    "    ntokens,\n",
    "    embsize,\n",
    "    nhead,\n",
    "    d_hid,\n",
    "    nlayers,\n",
    "    nlayers_cls=n_layers_cls,\n",
    "    n_cls=1,\n",
    "    vocab=vocab,\n",
    "    dropout=dropout,\n",
    "    pad_token=pad_token,\n",
    "    pad_value=pad_value,\n",
    "    use_fast_transformer=use_fast_transformer,\n",
    ")\n",
    "if load_param_prefixs is not None and load_model is not None:\n",
    "    # only load params that start with the prefix\n",
    "    model_dict = model.state_dict()\n",
    "    pretrained_dict = torch.load(model_file,  map_location=torch.device(device))\n",
    "    pretrained_dict = {\n",
    "        k: v\n",
    "        for k, v in pretrained_dict.items()\n",
    "        if any([k.startswith(prefix) for prefix in load_param_prefixs])\n",
    "    }\n",
    "    for k, v in pretrained_dict.items():\n",
    "        logger.info(f\"Loading params {k} with shape {v.shape}\")\n",
    "    model_dict.update(pretrained_dict)\n",
    "    model.load_state_dict(model_dict)\n",
    "elif load_model is not None:\n",
    "    try:\n",
    "        model.load_state_dict(torch.load(model_file))\n",
    "        logger.info(f\"Loading all model params from {model_file}\")\n",
    "    except:\n",
    "        # only load params that are in the model and match the size\n",
    "        model_dict = model.state_dict()\n",
    "        pretrained_dict = torch.load(model_file, map_location=torch.device(device))\n",
    "        pretrained_dict = {\n",
    "            k: v\n",
    "            for k, v in pretrained_dict.items()\n",
    "            if k in model_dict and v.shape == model_dict[k].shape\n",
    "        }\n",
    "        for k, v in pretrained_dict.items():\n",
    "            logger.info(f\"Loading params {k} with shape {v.shape}\")\n",
    "        model_dict.update(pretrained_dict)\n",
    "        model.load_state_dict(model_dict)\n",
    "model.to(device)"
   ]
  },
  {
   "cell_type": "code",
   "execution_count": 9,
   "metadata": {},
   "outputs": [],
   "source": [
    "import torch_geometric\n",
    "from torch_geometric.data import Data\n",
    "from typing import List, Union"
   ]
  },
  {
   "cell_type": "code",
   "execution_count": 10,
   "metadata": {},
   "outputs": [],
   "source": [
    "def generate_binary_array(n_masks, n_genes, fraction):\n",
    "    \"\"\"\n",
    "    Generate a binary 2D NumPy array with a set fraction of 1s randomly distributed in every row.\n",
    "\n",
    "    Parameters:\n",
    "    rows (int): Number of rows in the array.\n",
    "    cols (int): Number of columns in the array.\n",
    "    fraction (float): Fraction of 1s in each row (0 <= fraction <= 1).\n",
    "\n",
    "    Returns:\n",
    "    np.ndarray: Binary 2D NumPy array.\n",
    "    \"\"\"\n",
    "    if not (0 <= fraction <= 1):\n",
    "        raise ValueError(\"Fraction must be between 0 and 1.\")\n",
    "\n",
    "    array = np.zeros((n_masks, n_genes), dtype=int)\n",
    "    num_ones = int(fraction * n_genes)\n",
    "\n",
    "    for row in array:\n",
    "        ones_indices = np.random.choice(n_genes, num_ones, replace=False)\n",
    "        row[ones_indices] = 1\n",
    "\n",
    "    return array\n",
    "\n",
    "def apply_masks(\n",
    "    values: Union[torch.Tensor, np.ndarray],\n",
    "    masks: np.ndarray,\n",
    "    mask_value: int = -1,\n",
    "    pad_value: int = 0,\n",
    "    indices_to_keep: List[int] = None\n",
    ") -> torch.Tensor:\n",
    "    \"\"\"\n",
    "    Apply given masks to the values.\n",
    "\n",
    "    Args:\n",
    "        values (array-like): The data to mask, shape (n_features,)\n",
    "        masks (array-like): An array of masks to apply, shape (n_masks, n_features)\n",
    "        mask_value (int): The value to mask with, default to -1.\n",
    "        pad_value (int): The value of padding in the values, will be kept unchanged.\n",
    "        indices_to_keep (list of int): List of indices that should not be masked.\n",
    "\n",
    "    Returns:\n",
    "        torch.Tensor: A tensor of masked data, shape (n_masks, n_features)\n",
    "    \"\"\"\n",
    "    if isinstance(values, torch.Tensor):\n",
    "        values = values.clone().detach().cpu().numpy()\n",
    "    else:\n",
    "        values = values.copy()\n",
    "\n",
    "    if indices_to_keep is None:\n",
    "        indices_to_keep = []\n",
    "\n",
    "    masked_values = []\n",
    "    for i in range(masks.shape[0]):\n",
    "        mask = masks[i]\n",
    "        masked_value = values.copy()\n",
    "        # Only mask the positions where mask == 1 and values != pad_value\n",
    "        mask_positions = (mask == 1) & (values != pad_value)\n",
    "        # Set the indices that should not be masked to False\n",
    "        mask_positions[indices_to_keep] = False\n",
    "        masked_value[mask_positions] = mask_value\n",
    "        masked_values.append(masked_value)\n",
    "\n",
    "    return torch.from_numpy(np.array(masked_values)).float()\n",
    "\n",
    "def sample_pert(\n",
    "    model: nn.Module,\n",
    "    cell_data: torch_geometric.data.Data,\n",
    "    masks: np.ndarray,\n",
    ") -> torch.Tensor:\n",
    "    \"\"\"\n",
    "    Applies multiple masks to a single cell record, reconstructs the missing values using the model,\n",
    "    and returns the reconstructed cell expressions.\n",
    "\n",
    "    Args:\n",
    "        model (nn.Module): The transformer model.\n",
    "        cell_data (torch_geometric.data.Data): The data of a single cell.\n",
    "        masks (np.ndarray): An array of masks to apply, shape (n_masks, n_genes).\n",
    "        device (torch.device): The device to run the computations on.\n",
    "        map_raw_id_to_vocab_id (Callable): Function to map raw gene IDs to vocab IDs.\n",
    "        gene_ids (torch.Tensor): Tensor of gene IDs.\n",
    "        criterion (Callable): Loss function.\n",
    "        amp (bool): Automatic Mixed Precision flag.\n",
    "        CLS, CCE, MVC, ECS: Model-specific flags.\n",
    "        vocab (Dict): Vocabulary mapping.\n",
    "        pad_token (str): Padding token.\n",
    "        max_seq_len (int, optional): Maximum sequence length.\n",
    "        include_zero_gene (str): Inclusion criteria for zero-expression genes.\n",
    "\n",
    "    Returns:\n",
    "        torch.Tensor: Reconstructed cell expressions, shape (n_masks, n_genes).\n",
    "    \"\"\"\n",
    "    #initial_state_dict = model.state_dict()\n",
    "    \n",
    "    model.eval()\n",
    "    cell_data.to(device)\n",
    "    x: torch.Tensor = cell_data.x  # (n_genes, 2)\n",
    "    ori_gene_values = x[0, :]  # (n_genes,)\n",
    "    pert_flags = x[:, 1].long()  # (n_genes,)\n",
    "    target_gene_values = cell_data.x  # (n_genes,)\n",
    "\n",
    "    n_masks = masks.shape[0]\n",
    "    n_genes = target_gene_values.shape[1]\n",
    "\n",
    "    # Repeat ori_gene_values and pert_flags for each mask\n",
    "    \n",
    "    #ori_gene_values = ori_gene_values.unsqueeze(0).repeat(n_masks, 1)  # (n_masks, n_genes)\n",
    "        \n",
    "    # Prepare input_gene_ids\n",
    "    if include_zero_gene in [\"all\", \"batch-wise\"]:\n",
    "        if include_zero_gene == \"all\":\n",
    "            input_gene_ids = torch.arange(n_genes, device=device, dtype=torch.long)\n",
    "        else:\n",
    "            input_gene_ids = (\n",
    "                ori_gene_values.nonzero()[:, 1].flatten().unique().sort()[0]\n",
    "            )\n",
    "        # Sample input_gene_id\n",
    "        if max_seq_len and len(input_gene_ids) > max_seq_len:\n",
    "            # input_gene_ids = torch.randperm(len(input_gene_ids), device=device)[\n",
    "            #     :max_seq_len\n",
    "            # ]\n",
    "            input_gene_ids = torch.tensor(np.arange(max_seq_len)).to(device)\n",
    "\n",
    "        \n",
    "        input_values = ori_gene_values[input_gene_ids]\n",
    "    \n",
    "        input_values = apply_masks(\n",
    "                                        input_values,\n",
    "                                        masks[:, input_gene_ids.cpu().numpy()],\n",
    "                                        mask_value=-1,\n",
    "                                        pad_value=0,\n",
    "                                    ) \n",
    "    \n",
    "        \n",
    "        mapped_input_gene_ids = map_raw_id_to_vocab_id(input_gene_ids, gene_ids)\n",
    "        mapped_input_gene_ids = mapped_input_gene_ids.unsqueeze(0).repeat(n_masks, 1)\n",
    "\n",
    "        # src_key_padding_mask\n",
    "        src_key_padding_mask = mapped_input_gene_ids.eq(vocab[pad_token])\n",
    "    \n",
    "    \n",
    "    with torch.cuda.amp.autocast(enabled=amp):\n",
    "        output_dict = model(\n",
    "            mapped_input_gene_ids.to(device),\n",
    "            input_values.to(device),\n",
    "            src_key_padding_mask=src_key_padding_mask.to(device),\n",
    "            CLS=CLS,\n",
    "            CCE=CCE,\n",
    "            MVC=MVC,\n",
    "            ECS=ECS,\n",
    "        )\n",
    "        output_values = output_dict[\"mlm_output\"]  # (n_masks, n_genes)\n",
    "    \n",
    "    # Reset model to initial state\n",
    "    # model.load_state_dict(initial_state_dict)\n",
    "    return output_values\n"
   ]
  },
  {
   "cell_type": "markdown",
   "metadata": {},
   "source": [
    "### Create the reconstructed reprogramming data"
   ]
  },
  {
   "cell_type": "code",
   "execution_count": 11,
   "metadata": {},
   "outputs": [],
   "source": [
    "import pandas as pd"
   ]
  },
  {
   "cell_type": "code",
   "execution_count": 12,
   "metadata": {},
   "outputs": [],
   "source": [
    "OKSM = ['SOX2', 'KLF4', 'POU5F1', 'MYC', 'NANOG']\n",
    "\n",
    "TFs = pd.read_csv('../../perturb_train/little_data/TF_db.csv', index_col = 0)\n",
    "TFs = TFs.loc[:,'HGNC symbol'].tolist()\n",
    "\n",
    "ipsc_genes = pert_data.adata.var.gene_name.tolist()\n",
    "to_perturb = list(set(ipsc_genes).intersection(set(TFs)))\n",
    "\n",
    "tf_exp = pert_data.adata[:,pert_data.adata.var.gene_name.isin(to_perturb)].X\n",
    "\n",
    "a = (tf_exp.shape[0] - (tf_exp==0).sum(axis=0))/tf_exp.shape[0]\n",
    "threshold = 0.10  # Set your desired threshold here\n",
    "\n",
    "# Get the indexes where values are above the threshold\n",
    "to_perturb = np.array(to_perturb)[np.array(a).squeeze() > threshold]\n",
    "to_perturb = np.array(list(set(list(to_perturb) + OKSM)))"
   ]
  },
  {
   "cell_type": "code",
   "execution_count": 13,
   "metadata": {},
   "outputs": [
    {
     "name": "stderr",
     "output_type": "stream",
     "text": [
      "Local copy of pyg dataset is detected. Loading...\n",
      "Done!\n",
      "Local copy of pyg dataset is detected. Loading...\n",
      "Done!\n",
      "Local copy of pyg dataset is detected. Loading...\n",
      "Done!\n",
      "Local copy of pyg dataset is detected. Loading...\n",
      "Done!\n",
      "Local copy of pyg dataset is detected. Loading...\n",
      "Done!\n",
      "Local copy of split is detected. Loading...\n",
      "Done!\n",
      "Creating dataloaders....\n",
      "Dataloaders created...\n"
     ]
    }
   ],
   "source": [
    "adata_list = []\n",
    "for sample in ['d20-nr', 'p20-nr', 'd8-fm', 'd4-fm', 'p3-nr']:\n",
    "    pert_data.load(data_path = f'../data/fibroblast_{sample}')\n",
    "    adata_list.append(pert_data.adata)\n",
    "\n",
    "pert_data.prepare_split(split='no_split', seed=1)\n",
    "pert_data.get_dataloader(batch_size=batch_size, test_batch_size=eval_batch_size,)\n",
    "import anndata as ad    \n",
    "adata_combined = ad.concat(adata_list, join='outer', axis=0)"
   ]
  },
  {
   "cell_type": "code",
   "execution_count": 14,
   "metadata": {},
   "outputs": [],
   "source": [
    "adata_combined = adata_combined[:,adata_combined.var.index.isin(to_perturb)].copy()"
   ]
  },
  {
   "cell_type": "code",
   "execution_count": 15,
   "metadata": {},
   "outputs": [],
   "source": [
    "# #train_loader = pert_data.dataloader[\"train_loader\"]\n",
    "# n_masks = 12500\n",
    "# batch = 128\n",
    "# fraction = 0.15\n",
    "# libs = {}\n",
    "# for library in ['D0-fm', 'D20-nr', 'P20-nr', 'D8-fm', 'D4-fm', 'P3-nr']:\n",
    "#     expression = adata_combined[adata_combined.obs.library==library].X[0].toarray()\n",
    "#     single_cell_ref = torch.tensor(expression)\n",
    "#     n_genes = single_cell_ref.shape[1]\n",
    "#     masks = generate_binary_array(n_masks, n_genes, fraction)\n",
    "    \n",
    "#     ref_cells = []\n",
    "#     for i in range(0, masks.shape[0]-batch, batch):\n",
    "#         res = sample_pert(model, Data(x=single_cell_ref), masks[i:i+batch]).detach().cpu().numpy()\n",
    "#         ref_cells.append(res)\n",
    "        \n",
    "#     ref_cells = np.array(ref_cells).reshape(-1, len(to_perturb))\n",
    "#     ref_cells = pd.DataFrame(ref_cells, columns = adata_combined.var.index.tolist())\n",
    "#     libs[library] = ref_cells.mean(axis=0)"
   ]
  },
  {
   "cell_type": "markdown",
   "metadata": {},
   "source": [
    "### Optimise the number of masks needed"
   ]
  },
  {
   "cell_type": "code",
   "execution_count": 16,
   "metadata": {},
   "outputs": [],
   "source": [
    "from tqdm import tqdm\n",
    "import matplotlib.pyplot as plt"
   ]
  },
  {
   "cell_type": "code",
   "execution_count": 17,
   "metadata": {},
   "outputs": [],
   "source": [
    "from IPython.display import clear_output"
   ]
  },
  {
   "cell_type": "code",
   "execution_count": 18,
   "metadata": {},
   "outputs": [],
   "source": [
    "def analyze_dimension_fluctuations(model, adata, batch=4, fraction=0.3, step_size=64):\n",
    "    \"\"\"\n",
    "    Analyze how the first 10 dimensions fluctuate with increasing mask sizes.\n",
    "\n",
    "    Parameters:\n",
    "    - single_cell_pert: numpy array, perturbed cell data\n",
    "    - model: PyTorch model used to sample perturbations\n",
    "    - adata: AnnData object containing experimental data\n",
    "    - batch: int, batch size for sampling perturbations\n",
    "    - fraction: float, fraction of genes to perturb\n",
    "    - step_size: int, increment in number of masks for each iteration\n",
    "\n",
    "    Returns:\n",
    "    - None\n",
    "    \"\"\"\n",
    "    n_genes = adata.var.shape[0]\n",
    "    single_cell_pert = adata.X[0].toarray()\n",
    "    \n",
    "    max_masks = 100000\n",
    "    mask_sizes = list(range(step_size, max_masks + 1, step_size))\n",
    "\n",
    "    # Initialize a list to hold dimension values for each mask size\n",
    "    dimension_values = [[] for _ in range(10)]\n",
    "\n",
    "    pert = adata[adata.obs.condition != 'ctrl'].X.toarray()\n",
    "\n",
    "    # Generate the maximum number of masks once\n",
    "    masks = generate_binary_array(max_masks, n_genes, fraction)\n",
    "\n",
    "    # Sample perturbed cells using the maximum number of masks\n",
    "    pert_cells = []\n",
    "    for i in range(0, masks.shape[0] - batch, batch):\n",
    "        res_pert = sample_pert(model, Data(x=torch.tensor(single_cell_pert)), masks[i:i + batch]).detach().cpu().numpy()\n",
    "        pert_cells.append(res_pert)\n",
    "\n",
    "    # Convert to DataFrame\n",
    "    pert_cells = np.array(pert_cells).reshape(-1, single_cell_pert.shape[1])\n",
    "    pert_cells = pd.DataFrame(pert_cells, columns=adata.var.index.tolist())\n",
    "\n",
    "    # Calculate and store the mean values of the first 10 dimensions for each mask size\n",
    "    for n_masks in mask_sizes:\n",
    "        sampled_pert_cells = pert_cells.sample(n=n_masks, replace=False)\n",
    "        for dim in range(10):\n",
    "            dimension_values[dim].append(sampled_pert_cells.mean().values[dim])\n",
    "\n",
    "    # Plot the first 10 dimensions as subplots\n",
    "    fig, axes = plt.subplots(5, 2, figsize=(15, 20))\n",
    "    fig.suptitle('First 10 Dimensions vs. Number of Masks')\n",
    "\n",
    "    for dim in range(10):\n",
    "        ax = axes[dim // 2, dim % 2]\n",
    "        ax.plot(mask_sizes, dimension_values[dim], marker='o')\n",
    "        ax.set_xlabel('Number of Masks')\n",
    "        ax.set_ylabel(f'Dimension {dim + 1} Value')\n",
    "        ax.grid()\n",
    "\n",
    "    plt.tight_layout(rect=[0, 0.03, 1, 0.97])\n",
    "    plt.show()\n",
    "\n",
    "#analyze_dimension_fluctuations(model, adata_combined, batch=128, fraction=0.15, step_size=4096)"
   ]
  },
  {
   "cell_type": "markdown",
   "metadata": {},
   "source": [
    "### After the mask size is optimised, it is time to run the search for the optimal Fibroblast - iPSCs reprogramming factors!\n",
    "We start by iterating over 3-gene subsets and measuring correlation with all the available reprogramming pathways."
   ]
  },
  {
   "cell_type": "markdown",
   "metadata": {},
   "source": [
    "### Generate perturbed cells"
   ]
  },
  {
   "cell_type": "code",
   "execution_count": 19,
   "metadata": {},
   "outputs": [
    {
     "name": "stderr",
     "output_type": "stream",
     "text": [
      "Local copy of pyg dataset is detected. Loading...\n",
      "Done!\n",
      "Local copy of split is detected. Loading...\n",
      "Done!\n",
      "Creating dataloaders....\n",
      "Dataloaders created...\n"
     ]
    },
    {
     "data": {
      "text/plain": [
       "{'test_loader': <torch_geometric.deprecation.DataLoader at 0x7fb21245d780>}"
      ]
     },
     "execution_count": 19,
     "metadata": {},
     "output_type": "execute_result"
    }
   ],
   "source": [
    "pert_data = PertData(\"../data/\")\n",
    "pert_data.load(data_path='../data/fibroblast_p20-nr/')\n",
    "pert_data.prepare_split(split='no_split', seed=1)\n",
    "pert_data.get_dataloader(batch_size=batch_size, test_batch_size=eval_batch_size)"
   ]
  },
  {
   "cell_type": "code",
   "execution_count": 20,
   "metadata": {},
   "outputs": [],
   "source": [
    "OKSM = ['SOX2', 'KLF4', 'POU5F1', 'MYC', 'NANOG']\n",
    "\n",
    "TFs = pd.read_csv('../../perturb_train/little_data/TF_db.csv', index_col = 0)\n",
    "TFs = TFs.loc[:,'HGNC symbol'].tolist()\n",
    "\n",
    "ipsc_genes = pert_data.adata.var.gene_name.tolist()\n",
    "to_perturb = list(set(ipsc_genes).intersection(set(TFs)))\n",
    "\n",
    "tf_exp = pert_data.adata[:,pert_data.adata.var.gene_name.isin(to_perturb)].X\n",
    "\n",
    "a = (tf_exp.shape[0] - (tf_exp==0).sum(axis=0))/tf_exp.shape[0]\n",
    "threshold = 0.10  # Set your desired threshold here\n",
    "\n",
    "# Get the indexes where values are above the threshold\n",
    "to_perturb = np.array(to_perturb)[np.array(a).squeeze() > threshold]\n",
    "to_perturb = np.array(list(set(list(to_perturb) + OKSM)))"
   ]
  },
  {
   "cell_type": "code",
   "execution_count": 21,
   "metadata": {},
   "outputs": [
    {
     "data": {
      "text/plain": [
       "1250"
      ]
     },
     "execution_count": 21,
     "metadata": {},
     "output_type": "execute_result"
    }
   ],
   "source": [
    "len(to_perturb)"
   ]
  },
  {
   "cell_type": "code",
   "execution_count": 22,
   "metadata": {},
   "outputs": [
    {
     "data": {
      "text/plain": [
       "(True, True, True, True, True)"
      ]
     },
     "execution_count": 22,
     "metadata": {},
     "output_type": "execute_result"
    }
   ],
   "source": [
    "'SOX2' in to_perturb, 'KLF4' in to_perturb, 'MYC' in to_perturb, 'POU5F1'in to_perturb, 'NANOG' in to_perturb"
   ]
  },
  {
   "cell_type": "code",
   "execution_count": 23,
   "metadata": {},
   "outputs": [
    {
     "name": "stdout",
     "output_type": "stream",
     "text": [
      "Generating 50000 random 3-element subsets from 1250 elements\n",
      "\n",
      "Total subsets generated: 50000\n",
      "\n",
      "First 5 subsets:\n",
      "Subset 1: ('LCORL', 'CXXC4', 'MIER3')\n",
      "Subset 2: ('ZNF730', 'KLF12', 'TRAF5')\n",
      "Subset 3: ('CYTL1', 'GPBP1', 'ZNF267')\n",
      "Subset 4: ('ZNF175', 'CTH', 'PRMT3')\n",
      "Subset 5: ('ZNF566', 'CC2D1B', 'HOXA11')\n",
      "\n",
      "Last 5 subsets:\n",
      "Subset 49996: ('GATA2', 'SMARCB1', 'ZNF20')\n",
      "Subset 49997: ('CARF', 'POU5F1B', 'HDAC10')\n",
      "Subset 49998: ('NME2', 'CUL5', 'CREB5')\n",
      "Subset 49999: ('ZSCAN10', 'MSX1', 'ZNF12')\n",
      "Subset 50000: ('MEOX2', 'DOT1L', 'SLC2A4RG')\n"
     ]
    }
   ],
   "source": [
    "import random\n",
    "import math\n",
    "from tqdm import tqdm\n",
    "\n",
    "# Fallback implementation of comb for Python versions earlier than 3.8\n",
    "def comb(n, k):\n",
    "    return math.factorial(n) // (math.factorial(k) * math.factorial(n - k))\n",
    "\n",
    "def generate_random_subset(elements, k):\n",
    "    return tuple(sorted(random.sample(elements, k)))\n",
    "\n",
    "def generate_random_subsets(elements, k, count):\n",
    "    total_possible = comb(len(elements), k)\n",
    "    if count > total_possible:\n",
    "        raise ValueError(f\"Requested count ({count}) exceeds total possible combinations ({total_possible})\")\n",
    "    \n",
    "    seen = set()\n",
    "    subsets = []\n",
    "    \n",
    "    while len(subsets) < count:\n",
    "        subset = generate_random_subset(range(len(elements)), k)\n",
    "        if subset not in seen:\n",
    "            seen.add(subset)\n",
    "            subsets.append(tuple(elements[i] for i in subset))\n",
    "    \n",
    "    return subsets\n",
    "\n",
    "def get_subsets(to_perturb, num_subsets=50_000, seed=42):\n",
    "    random.seed(seed)  # Set seed for reproducibility\n",
    "    subset_size = 3\n",
    "    \n",
    "    print(f\"Generating {num_subsets} random {subset_size}-element subsets from {len(to_perturb)} elements\")\n",
    "    return generate_random_subsets(to_perturb, subset_size, num_subsets)\n",
    "\n",
    "subsets = get_subsets(to_perturb)\n",
    "\n",
    "print(f\"\\nTotal subsets generated: {len(subsets)}\")\n",
    "print(\"\\nFirst 5 subsets:\")\n",
    "for i, subset in enumerate(subsets[:5]):\n",
    "    print(f\"Subset {i+1}: {subset}\")\n",
    "\n",
    "print(f\"\\nLast 5 subsets:\")\n",
    "for i, subset in enumerate(subsets[-5:]):\n",
    "    print(f\"Subset {len(subsets)-4+i}: {subset}\")"
   ]
  },
  {
   "cell_type": "code",
   "execution_count": 24,
   "metadata": {},
   "outputs": [
    {
     "name": "stderr",
     "output_type": "stream",
     "text": [
      "Local copy of pyg dataset is detected. Loading...\n",
      "Done!\n",
      "Local copy of pyg dataset is detected. Loading...\n",
      "Done!\n",
      "Local copy of pyg dataset is detected. Loading...\n",
      "Done!\n",
      "Local copy of pyg dataset is detected. Loading...\n",
      "Done!\n",
      "Local copy of pyg dataset is detected. Loading...\n",
      "Done!\n"
     ]
    }
   ],
   "source": [
    "adata_list = []\n",
    "for sample in ['d20-nr', 'p20-nr', 'd8-fm', 'd4-fm', 'p3-nr']:\n",
    "    pert_data.load(data_path = f'../data/fibroblast_{sample}')\n",
    "    adata_list.append(pert_data.adata)"
   ]
  },
  {
   "cell_type": "code",
   "execution_count": 25,
   "metadata": {},
   "outputs": [
    {
     "name": "stderr",
     "output_type": "stream",
     "text": [
      "Local copy of split is detected. Loading...\n",
      "Done!\n",
      "Creating dataloaders....\n",
      "Dataloaders created...\n"
     ]
    },
    {
     "data": {
      "text/plain": [
       "{'test_loader': <torch_geometric.deprecation.DataLoader at 0x7fb2128a16f0>}"
      ]
     },
     "execution_count": 25,
     "metadata": {},
     "output_type": "execute_result"
    }
   ],
   "source": [
    "pert_data.prepare_split(split='no_split', seed=1)\n",
    "pert_data.get_dataloader(batch_size=batch_size, test_batch_size=eval_batch_size,)"
   ]
  },
  {
   "cell_type": "code",
   "execution_count": 26,
   "metadata": {},
   "outputs": [],
   "source": [
    "import anndata as ad    \n",
    "adata_combined = ad.concat(adata_list, join='outer', axis=0)"
   ]
  },
  {
   "cell_type": "code",
   "execution_count": 27,
   "metadata": {},
   "outputs": [
    {
     "data": {
      "text/plain": [
       "['D0-fm', 'D20-nr', 'P20-nr', 'D8-fm', 'D4-fm', 'P3-nr']\n",
       "Categories (6, object): ['D0-fm', 'D4-fm', 'D8-fm', 'D20-nr', 'P3-nr', 'P20-nr']"
      ]
     },
     "execution_count": 27,
     "metadata": {},
     "output_type": "execute_result"
    }
   ],
   "source": [
    "adata_combined.obs.library.unique()"
   ]
  },
  {
   "cell_type": "markdown",
   "metadata": {},
   "source": [
    "##### OKSM 3-element subsets data"
   ]
  },
  {
   "cell_type": "code",
   "execution_count": 28,
   "metadata": {},
   "outputs": [],
   "source": [
    "from itertools import combinations\n",
    "\n",
    "# Generate all 3-element subsets\n",
    "subsets_oksm = list(combinations(OKSM, 4))\n",
    "\n",
    "best_model = model\n",
    "res = pd.DataFrame()"
   ]
  },
  {
   "cell_type": "code",
   "execution_count": 29,
   "metadata": {},
   "outputs": [
    {
     "data": {
      "text/plain": [
       "50000"
      ]
     },
     "execution_count": 29,
     "metadata": {},
     "output_type": "execute_result"
    }
   ],
   "source": [
    "len(subsets)"
   ]
  },
  {
   "cell_type": "markdown",
   "metadata": {},
   "source": [
    "##### General Search"
   ]
  },
  {
   "cell_type": "code",
   "execution_count": 30,
   "metadata": {},
   "outputs": [],
   "source": [
    "def perturb_gene_subset(expression, adata_var_index, model, gene_names_to_perturb, batch=4, n_masks=512, fraction=0.3):\n",
    "    \"\"\"\n",
    "    Perturb a desired subset of genes provided as a list of gene names.\n",
    "\n",
    "    Parameters:\n",
    "    - adata: AnnData object containing gene expression data\n",
    "    - model: PyTorch model used to sample perturbations\n",
    "    - gene_names_to_perturb: list of strings, names of genes to be perturbed\n",
    "    - batch: int, batch size for sampling perturbations\n",
    "    - n_masks: int, number of binary masks to generate for sampling\n",
    "    - fraction: float, fraction of genes to perturb in each mask\n",
    "\n",
    "    Returns:\n",
    "    - ref_cells: DataFrame, reference cell reconstructions\n",
    "    - pert_cells: DataFrame, perturbed cell reconstructions\n",
    "    \"\"\"\n",
    "    # Extract expression data\n",
    "    \n",
    "    expression_pert = expression.copy()\n",
    "    \n",
    "    # Find indices of genes to perturb\n",
    "    gene_indices_to_perturb = [adata_var_index.get_loc(gene) for gene in gene_names_to_perturb]\n",
    "    \n",
    "    # Apply overexpression to the selected genes\n",
    "    expression_pert[:, gene_indices_to_perturb] = expression_pert.max() * 10\n",
    "    \n",
    "    # Convert to tensors\n",
    "    #single_cell_ref = torch.tensor(expression)\n",
    "    single_cell_pert = torch.tensor(expression_pert)\n",
    "    \n",
    "    # Generate binary masks\n",
    "    n_genes = expression_pert.shape[1]\n",
    "    masks = generate_binary_array(n_masks, n_genes, fraction)\n",
    "    \n",
    "    # Sample reference cells\n",
    "    # ref_cells = []\n",
    "    # for i in range(0, masks.shape[0] - batch, batch):\n",
    "    #     res = sample_pert(model, Data(x=single_cell_ref), masks[i:i + batch]).detach().cpu().numpy()\n",
    "    #     ref_cells.append(res)\n",
    "    \n",
    "    # Sample perturbed cells\n",
    "    pert_cells = []\n",
    "    for i in range(0, masks.shape[0] - batch, batch):\n",
    "        res = sample_pert(model, Data(x=single_cell_pert), masks[i:i + batch]).detach().cpu().numpy()\n",
    "        pert_cells.append(res)\n",
    "    \n",
    "    # Convert results to DataFrames\n",
    "    # ref_cells = np.array(ref_cells).reshape(-1, n_genes)\n",
    "    # ref_cells = pd.DataFrame(ref_cells, columns=adata.var.index.tolist())\n",
    "\n",
    "    pert_cells = np.array(pert_cells).reshape(-1, n_genes)\n",
    "    pert_cells = pd.DataFrame(pert_cells, columns=adata_combined.var.index.tolist())\n",
    "    \n",
    "    return pert_cells"
   ]
  },
  {
   "cell_type": "code",
   "execution_count": 31,
   "metadata": {},
   "outputs": [],
   "source": [
    "adata_combined = adata_combined[:,adata_combined.var.index.isin(to_perturb)].copy()"
   ]
  },
  {
   "cell_type": "code",
   "execution_count": null,
   "metadata": {},
   "outputs": [],
   "source": []
  },
  {
   "cell_type": "code",
   "execution_count": 81,
   "metadata": {
    "scrolled": true
   },
   "outputs": [
    {
     "name": "stderr",
     "output_type": "stream",
     "text": [
      "100%|██████████| 100/100 [01:36<00:00,  1.04it/s]\n",
      "100%|██████████| 100/100 [01:35<00:00,  1.05it/s]\n",
      "100%|██████████| 100/100 [01:35<00:00,  1.04it/s]\n",
      "100%|██████████| 100/100 [01:35<00:00,  1.04it/s]\n",
      "100%|██████████| 100/100 [01:36<00:00,  1.04it/s]\n",
      "100%|██████████| 100/100 [01:35<00:00,  1.05it/s]\n"
     ]
    }
   ],
   "source": [
    "reconstructed_ref = True\n",
    "\n",
    "iterations = 1  # Number of random sampling iterations\n",
    "\n",
    "n_masks = 1024\n",
    "batch = 128\n",
    "fraction = 0.15\n",
    "libs = {}\n",
    "\n",
    "for library in ['D0-fm', 'D20-nr', 'P20-nr', 'D8-fm', 'D4-fm', 'P3-nr']:\n",
    "    if reconstructed_ref:\n",
    "        t = adata_combined[adata_combined.obs.library==library]\n",
    "        ref_cells_fin_list = []\n",
    "        for i in tqdm(range(100)):\n",
    "            choice = np.random.randint(low=0, high=t.X.shape[0])\n",
    "            expression = t.X[choice,:].toarray()\n",
    "            \n",
    "            single_cell_ref = torch.tensor(expression)\n",
    "            n_genes = single_cell_ref.shape[1]\n",
    "            masks = generate_binary_array(n_masks, n_genes, fraction)\n",
    "            \n",
    "            ref_cells = []\n",
    "            for i in range(0, masks.shape[0]-batch, batch):\n",
    "                res = sample_pert(model, Data(x=single_cell_ref), masks[i:i+batch]).detach().cpu().numpy()\n",
    "                ref_cells.append(res)\n",
    "                \n",
    "            ref_cells = np.array(ref_cells).reshape(-1, len(to_perturb))\n",
    "            ref_cells = pd.DataFrame(ref_cells, columns = adata_combined.var.index.tolist())\n",
    "            ref_cells_fin_list.append(ref_cells.mean())\n",
    "        libs[library] = np.mean(ref_cells_fin_list,axis=0)\n",
    "    else:\n",
    "        ref_cells = adata_combined[adata_combined.obs.library==library].X\n",
    "        libs[library] = ref_cells.mean(axis=0)"
   ]
  },
  {
   "cell_type": "code",
   "execution_count": 82,
   "metadata": {
    "scrolled": true
   },
   "outputs": [
    {
     "name": "stderr",
     "output_type": "stream",
     "text": [
      "100%|██████████| 1/1 [00:01<00:00,  1.35s/it]\n",
      "100%|██████████| 1/1 [00:01<00:00,  1.35s/it]\n",
      "100%|██████████| 1/1 [00:01<00:00,  1.35s/it]\n",
      "100%|██████████| 1/1 [00:01<00:00,  1.34s/it]\n",
      "100%|██████████| 1/1 [00:01<00:00,  1.35s/it]\n",
      "100%|██████████| 1/1 [00:01<00:00,  1.34s/it]\n"
     ]
    }
   ],
   "source": [
    "cell_n = 10\n",
    "\n",
    "res = pd.DataFrame()\n",
    "counter = 0\n",
    "adata_var_index = adata_combined.var.index\n",
    "t = adata_combined[adata_combined.obs.condition=='ctrl']\n",
    "\n",
    "batch_size = 128\n",
    "n_masks = 1024\n",
    "frac_masked = 0.15\n",
    "for s in subsets_oksm+[OKSM]:\n",
    "    genes = [s]\n",
    "    name = '_'.join(genes[0])\n",
    "    for i in tqdm(range(iterations)):        \n",
    "        choice = cell_n #np.random.randint(low=0, high=t.X.shape[0])\n",
    "        expression = t.X[choice,:].toarray()\n",
    "    \n",
    "        single_cell = perturb_gene_subset(expression, adata_var_index, model, s, batch=batch_size, n_masks=n_masks, fraction=frac_masked).values\n",
    "        \n",
    "        for lib in libs:\n",
    "            res.loc[f'{name}_{choice}', f'euclid_distance_{lib}'] = np.mean([np.linalg.norm(libs[lib] - single_cell[i]) for i in range(single_cell.shape[0])])\n",
    "            res.loc[f'{name}_{choice}', f'pearson_corr_{lib}'] = np.mean([np.corrcoef(libs[lib], single_cell[i])[0,1] for i in range(single_cell.shape[0])])\n",
    "        res.to_csv('./save/ipsc_perturbation_sampling_search_oksm_1024_masks_RECON_REF_multi_cells_v2.csv')"
   ]
  },
  {
   "cell_type": "code",
   "execution_count": 83,
   "metadata": {
    "scrolled": true
   },
   "outputs": [],
   "source": [
    "# res = pd.DataFrame()\n",
    "# # Perturbation Search\n",
    "# if 1==1:\n",
    "#     for s in tqdm(subsets):\n",
    "#         genes = [s]\n",
    "#         name = '_'.join(genes[0])\n",
    "#         single_cell = perturb_gene_subset(expression, adata_var_index, model, s, batch=batch_size, n_masks=n_masks, fraction=frac_masked).values\n",
    "#         #res_express.loc[name,pert_data.adata.var.index[gene_mask]] = single_cell\n",
    "        \n",
    "#         choice = np.random.randint(low=0, high=t.X.shape[0])\n",
    "#         expression = t.X[choice,:].toarray()\n",
    "    \n",
    "#         for lib in libs:\n",
    "#             res.loc[name, f'euclid_distance_{lib}'] = np.mean([np.linalg.norm(libs[lib] - single_cell[i]) for i in range(single_cell.shape[0])])\n",
    "#             res.loc[name, f'pearson_corr_{lib}'] = np.mean([np.corrcoef(libs[lib], single_cell[i])[0,1] for i in range(single_cell.shape[0])])\n",
    "#         counter+=1\n",
    "#         clear_output()\n",
    "#         if counter>=100:\n",
    "#             res.to_csv('./save/ipsc_perturbation_sampling_search_1024_masks_RECON_REF_multi_cells.csv')\n",
    "#             counter = 0\n",
    "        "
   ]
  },
  {
   "cell_type": "code",
   "execution_count": null,
   "metadata": {},
   "outputs": [
    {
     "name": "stderr",
     "output_type": "stream",
     "text": [
      "  1%|          | 517/50000 [11:33<18:26:12,  1.34s/it]"
     ]
    }
   ],
   "source": [
    "res = pd.DataFrame()\n",
    "\n",
    "# Perturbation Search\n",
    "if 1 == 1:\n",
    "    for s in tqdm(subsets):\n",
    "        genes = [s]\n",
    "        name = '_'.join(genes[0])\n",
    "        mean_euclid_distance = {lib: [] for lib in libs}\n",
    "        mean_pearson_corr = {lib: [] for lib in libs}\n",
    "\n",
    "        for _ in range(iterations):\n",
    "            choice = cell_n #np.random.randint(low=0, high=t.X.shape[0])\n",
    "            expression = t.X[choice, :].toarray()\n",
    "            single_cell = perturb_gene_subset(expression, adata_var_index, model, s, batch=batch_size, n_masks=n_masks, fraction=frac_masked).values\n",
    "\n",
    "            for lib in libs:\n",
    "                euclid_distances = [np.linalg.norm(libs[lib] - single_cell[i]) for i in range(single_cell.shape[0])]\n",
    "                pearson_corrs = [np.corrcoef(libs[lib], single_cell[i])[0, 1] for i in range(single_cell.shape[0])]\n",
    "                mean_euclid_distance[lib].append(np.mean(euclid_distances))\n",
    "                mean_pearson_corr[lib].append(np.mean(pearson_corrs))\n",
    "\n",
    "        # Compute mean of means over iterations for robustness\n",
    "        for lib in libs:\n",
    "            res.loc[name, f'euclid_distance_{lib}'] = np.mean(mean_euclid_distance[lib])\n",
    "            res.loc[name, f'pearson_corr_{lib}'] = np.mean(mean_pearson_corr[lib])\n",
    "\n",
    "        counter += 1\n",
    "        clear_output()\n",
    "        if counter >= 100:\n",
    "            res.to_csv('./save/ipsc_perturbation_sampling_search_1024_masks_RECON_REF_multi_cells_v2.csv')\n",
    "            counter = 0"
   ]
  },
  {
   "cell_type": "code",
   "execution_count": null,
   "metadata": {},
   "outputs": [],
   "source": []
  },
  {
   "cell_type": "code",
   "execution_count": null,
   "metadata": {},
   "outputs": [],
   "source": []
  },
  {
   "cell_type": "code",
   "execution_count": null,
   "metadata": {},
   "outputs": [],
   "source": []
  },
  {
   "cell_type": "code",
   "execution_count": null,
   "metadata": {},
   "outputs": [],
   "source": []
  },
  {
   "cell_type": "code",
   "execution_count": null,
   "metadata": {},
   "outputs": [],
   "source": []
  },
  {
   "cell_type": "code",
   "execution_count": null,
   "metadata": {},
   "outputs": [],
   "source": []
  },
  {
   "cell_type": "markdown",
   "metadata": {
    "jp-MarkdownHeadingCollapsed": true
   },
   "source": [
    "#### Real data relationshiops"
   ]
  },
  {
   "cell_type": "code",
   "execution_count": 63,
   "metadata": {},
   "outputs": [],
   "source": [
    "corrs = pd.DataFrame(index = libs.keys(), columns = libs.keys())\n",
    "for lib1 in libs:\n",
    "    for lib2 in libs:\n",
    "        pearson_corrs = np.corrcoef(libs[lib1], libs[lib2])[0, 1]\n",
    "        corrs.loc[lib1,lib2] = pearson_corrs\n",
    "        "
   ]
  },
  {
   "cell_type": "code",
   "execution_count": 66,
   "metadata": {},
   "outputs": [],
   "source": [
    "import seaborn as sns"
   ]
  },
  {
   "cell_type": "code",
   "execution_count": 71,
   "metadata": {},
   "outputs": [
    {
     "data": {
      "image/png": "[encoded data removed]",
      "text/plain": [
       "<Figure size 640x480 with 2 Axes>"
      ]
     },
     "metadata": {},
     "output_type": "display_data"
    }
   ],
   "source": [
    "order = ['D0-fm','D4-fm','D8-fm','D20-nr','P3-nr','P20-nr']\n",
    "sns.heatmap(corrs.loc[order, order].astype(float))\n",
    "plt.savefig('./save/reprog_corr_heatmap.png',bbox_inches='tight')"
   ]
  },
  {
   "cell_type": "code",
   "execution_count": 65,
   "metadata": {},
   "outputs": [
    {
     "data": {
      "text/plain": [
       "(1250,)"
      ]
     },
     "execution_count": 65,
     "metadata": {},
     "output_type": "execute_result"
    }
   ],
   "source": [
    "libs[lib1].shape"
   ]
  }
 ],
 "metadata": {
  "kernelspec": {
   "display_name": "Python 3 (ipykernel)",
   "language": "python",
   "name": "python3"
  },
  "language_info": {
   "codemirror_mode": {
    "name": "ipython",
    "version": 3
   },
   "file_extension": ".py",
   "mimetype": "text/x-python",
   "name": "python",
   "nbconvert_exporter": "python",
   "pygments_lexer": "ipython3",
   "version": "3.10.14"
  }
 },
 "nbformat": 4,
 "nbformat_minor": 4
}
