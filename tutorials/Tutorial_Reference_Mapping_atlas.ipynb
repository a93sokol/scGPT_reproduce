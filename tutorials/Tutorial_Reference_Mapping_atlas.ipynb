{
 "cells": [
  {
   "cell_type": "code",
   "execution_count": 1,
   "metadata": {},
   "outputs": [
    {
     "name": "stdout",
     "output_type": "stream",
     "text": [
      "Number of available cores: 6\n"
     ]
    }
   ],
   "source": [
    "import os\n",
    "from pathlib import Path\n",
    "\n",
    "import numpy as np\n",
    "import scanpy as sc\n",
    "try:\n",
    "    import hnswlib\n",
    "    hnswlib_imported = True\n",
    "except ImportError:\n",
    "    hnswlib_imported = False\n",
    "    print(\"hnswlib not installed! We highly recommend installing it for fast similarity search.\")\n",
    "    print(\"To install it, run: pip install hnswlib\")\n",
    "\n",
    "try:\n",
    "    n_available_cores = len(os.sched_getaffinity(0))\n",
    "    print(\"Number of available cores: {}\".format(n_available_cores))\n",
    "except Exception:\n",
    "    n_available_cores = min(10, os.cpu_count())"
   ]
  },
  {
   "cell_type": "code",
   "execution_count": 2,
   "metadata": {},
   "outputs": [],
   "source": [
    "# loop over all the embedding datasets to collect the embeddings"
   ]
  },
  {
   "cell_type": "code",
   "execution_count": 3,
   "metadata": {},
   "outputs": [],
   "source": [
    "# REFERENCE\n",
    "ref_data_dir = \"/scratch/ssd004/datasets/cellxgene/embed/brain/\"\n",
    "# get all file under this dir\n",
    "ref_data_path_list = os.listdir(ref_data_dir)\n",
    "ref_data_path_list = [os.path.join(ref_data_dir, i) for i in ref_data_path_list]"
   ]
  },
  {
   "cell_type": "code",
   "execution_count": 4,
   "metadata": {},
   "outputs": [
    {
     "data": {
      "text/plain": [
       "['/scratch/ssd004/datasets/cellxgene/embed_dataset/ms-dataset/embed_0.h5ad']"
      ]
     },
     "execution_count": 4,
     "metadata": {},
     "output_type": "execute_result"
    }
   ],
   "source": [
    "# QUERY\n",
    "query_data_dir = \"/scratch/ssd004/datasets/cellxgene/embed_dataset/ms-dataset/\"\n",
    "# get all file under this dir\n",
    "query_data_path_list = os.listdir(query_data_dir)\n",
    "# query_data_path_list = [os.path.join(query_data_dir, i) for i in query_data_path_list]\n",
    "query_data_path_list = [\n",
    "    os.path.join(query_data_dir, i) for i in query_data_path_list if \"embed_0\" in i\n",
    "]\n",
    "query_data_path_list"
   ]
  },
  {
   "cell_type": "code",
   "execution_count": 5,
   "metadata": {},
   "outputs": [],
   "source": [
    "# read all data\n",
    "embed_list = []\n",
    "meta_list = []\n",
    "for ref_data_path in ref_data_path_list:\n",
    "    data = sc.read_h5ad(ref_data_path)\n",
    "    embed_list.append(data.X)\n",
    "    meta_list.append(data.obs[\"cell_type\"].values)\n",
    "\n",
    "embed_array = np.concatenate(embed_list, axis=0)\n",
    "meta_array = np.concatenate(meta_list, axis=0)\n",
    "del embed_list, meta_list"
   ]
  },
  {
   "cell_type": "code",
   "execution_count": 6,
   "metadata": {},
   "outputs": [
    {
     "data": {
      "text/plain": [
       "AnnData object with n_obs × n_vars = 200000 × 512\n",
       "    obs: 'soma_joinid', 'cell_type', 'assay', 'tissue', 'tissue_general'"
      ]
     },
     "execution_count": 6,
     "metadata": {},
     "output_type": "execute_result"
    }
   ],
   "source": [
    "data"
   ]
  },
  {
   "cell_type": "code",
   "execution_count": 7,
   "metadata": {},
   "outputs": [
    {
     "data": {
      "text/plain": [
       "(13225889, 512)"
      ]
     },
     "execution_count": 7,
     "metadata": {},
     "output_type": "execute_result"
    }
   ],
   "source": [
    "embed_array.shape"
   ]
  },
  {
   "cell_type": "code",
   "execution_count": 8,
   "metadata": {},
   "outputs": [
    {
     "data": {
      "text/plain": [
       "10"
      ]
     },
     "execution_count": 8,
     "metadata": {},
     "output_type": "execute_result"
    }
   ],
   "source": [
    "# Declaring index, using most of the default parameters from https://github.com/nmslib/hnswlib\n",
    "p = hnswlib.Index(space = 'l2', dim = embed_array.shape[1]) # possible options are l2, cosine or ip\n",
    "p.init_index(max_elements = embed_array.shape[0], ef_construction = 30, M = 16)\n",
    "\n",
    "# Element insertion (can be called several times):\n",
    "p.add_items(embed_array)\n",
    "\n",
    "# Controlling the recall by setting ef:\n",
    "# p.set_ef(15) # ef should always be > k\n",
    "\n",
    "p.ef\n"
   ]
  },
  {
   "cell_type": "markdown",
   "metadata": {},
   "source": [
    "## ways to reduce the memory footprint of the index\n",
    "\n",
    "1. use smaller feature dimensions. Create an autoencoder or PCA before indexing? An issue with the projection will need to be updated now and then when a large trunk of new data is added to the atlas.\n",
    "    \n",
    "    1.1. Also, if using PCA, be aware that the different dimensions can have different variance scales. So it is important to use a distance metric such as l2 instead of cosine.\n",
    "    \n",
    "2. use smaller number of cells, such as meta cells. A naive way to select meta cells is to do an stratified sampling of the cells of different cell types in the atlas. The strategy can be tricky and will need to be updated when new data is added as well.\n",
    "\n",
    "    2.1 On one hand, using some meta cells may be needed. Since there can be too many cells, we want the found K neighbors to be representative enough, like they can cover enough range in the cell space. To make this more clear, some area in the cell space may be too dense comparing to other areas, this will make it an unfair higher chance of selecting cells in the region. So basically too approaches to relieve this (1) selecting meta cells more evenly spread, and then just retrieve in some meta cell space. (2) Post processing like normalized voting across cell types. A summarizing point is as follows, even if you want to use the approach (2), one will still need approach (1) because you will at least need cell states that should be covered actually get covered, so that then they can be re weighted during the voting process.\n",
    "\n",
    "    2.2 Using stratified sampling by annotated cell types is not appropriate, since the annotation schema can definitely change over time. So really need to make sure the meta cell selection is simply dependent on the raw data themselves."
   ]
  },
  {
   "cell_type": "markdown",
   "metadata": {},
   "source": [
    "Another point is that when computing the retrieving process. Balancing the voting process by considering the different numbers of cells for each cell is essential. Maybe the voting weights can be normalized by the ratio of cells in the atlas. Also please have a look at existing literature about how they applied that."
   ]
  },
  {
   "cell_type": "code",
   "execution_count": 9,
   "metadata": {},
   "outputs": [
    {
     "name": "stdout",
     "output_type": "stream",
     "text": [
      "Saving index to ./index.bin\n"
     ]
    }
   ],
   "source": [
    "index_save_path = \"./index.bin\"\n",
    "print(f\"Saving index to {index_save_path}\")\n",
    "p.save_index(index_save_path)"
   ]
  },
  {
   "cell_type": "code",
   "execution_count": 10,
   "metadata": {},
   "outputs": [],
   "source": [
    "query_embed_list = []\n",
    "query_meta_list = []\n",
    "for query_data_path in query_data_path_list:\n",
    "    data = sc.read_h5ad(query_data_path)\n",
    "    query_embed_list.append(data.X)\n",
    "    query_meta_list.append(data.obs[\"cell_type\"].values)\n",
    "    \n",
    "query_embed_array = np.concatenate(query_embed_list, axis=0)\n",
    "query_meta_array = np.concatenate(query_meta_list, axis=0)\n"
   ]
  },
  {
   "cell_type": "code",
   "execution_count": 11,
   "metadata": {},
   "outputs": [],
   "source": [
    "k = 10\n",
    "# Query dataset, k - number of closest elements (returns 2 numpy arrays)\n",
    "# idx, distances = p.knn_query(query_embed_array, k = k)\n",
    "idx, distances = p.knn_query(query_embed_array[:100], k = k)\n",
    "gt = query_meta_array[:100]"
   ]
  },
  {
   "cell_type": "code",
   "execution_count": 12,
   "metadata": {},
   "outputs": [],
   "source": [
    "matched_array = meta_array[idx]\n",
    "from scipy.stats import mode\n",
    "\n",
    "voting = mode(matched_array, axis=1)[0]"
   ]
  },
  {
   "cell_type": "markdown",
   "metadata": {},
   "source": [
    "### TODO: need a weighted voting to balance the different ratio of celltypes in the reference atlas"
   ]
  },
  {
   "cell_type": "code",
   "execution_count": 13,
   "metadata": {},
   "outputs": [
    {
     "data": {
      "text/plain": [
       "array([['oligodendrocyte'],\n",
       "       ['cerebral cortex GABAergic interneuron'],\n",
       "       ['oligodendrocyte'],\n",
       "       ['oligodendrocyte'],\n",
       "       ['oligodendrocyte'],\n",
       "       ['cerebral cortex GABAergic interneuron'],\n",
       "       ['astrocyte'],\n",
       "       ['neuron'],\n",
       "       ['astrocyte'],\n",
       "       ['oligodendrocyte']], dtype=object)"
      ]
     },
     "execution_count": 13,
     "metadata": {},
     "output_type": "execute_result"
    }
   ],
   "source": [
    "voting[:10]"
   ]
  },
  {
   "cell_type": "code",
   "execution_count": 14,
   "metadata": {},
   "outputs": [
    {
     "data": {
      "text/plain": [
       "array(['oligodendrocyte A', 'PVALB-expressing interneuron',\n",
       "       'oligodendrocyte A', 'oligodendrocyte precursor cell',\n",
       "       'oligodendrocyte A', 'mixed glial cell?', 'mixed glial cell?',\n",
       "       'VIP-expressing interneuron', 'astrocyte',\n",
       "       'oligodendrocyte precursor cell'], dtype=object)"
      ]
     },
     "execution_count": 14,
     "metadata": {},
     "output_type": "execute_result"
    }
   ],
   "source": [
    "gt[:10]"
   ]
  },
  {
   "cell_type": "code",
   "execution_count": null,
   "metadata": {},
   "outputs": [],
   "source": []
  }
 ],
 "metadata": {
  "kernelspec": {
   "display_name": "env",
   "language": "python",
   "name": "python3"
  },
  "language_info": {
   "codemirror_mode": {
    "name": "ipython",
    "version": 3
   },
   "file_extension": ".py",
   "mimetype": "text/x-python",
   "name": "python",
   "nbconvert_exporter": "python",
   "pygments_lexer": "ipython3",
   "version": "3.7.13"
  },
  "orig_nbformat": 4
 },
 "nbformat": 4,
 "nbformat_minor": 2
}
