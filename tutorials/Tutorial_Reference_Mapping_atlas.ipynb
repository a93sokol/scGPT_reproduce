{
 "cells": [
  {
   "cell_type": "code",
   "execution_count": 1,
   "metadata": {},
   "outputs": [],
   "source": [
    "import os\n",
    "from pathlib import Path\n",
    "\n",
    "import numpy as np\n",
    "import scanpy as sc\n",
    "import faiss\n",
    "\n",
    "from build_atlas_index_faiss import load_index"
   ]
  },
  {
   "cell_type": "code",
   "execution_count": 2,
   "metadata": {},
   "outputs": [
    {
     "name": "stdout",
     "output_type": "stream",
     "text": [
      "Loading index and meta from /scratch/hdd001/home/haotian/projects/cellxemb/brain ...\n",
      "Index loaded, num_embeddings: 13225889\n",
      "Set nprobe from 128 to 128 for 16384 clusters\n",
      "Loaded index with 13225889 cells\n"
     ]
    }
   ],
   "source": [
    "use_gpu = faiss.get_num_gpus() > 0\n",
    "index, meta_labels = load_index(\n",
    "    index_dir=\"/scratch/hdd001/home/haotian/projects/cellxemb/brain\",\n",
    "    use_config_file=False,\n",
    "    use_gpu=use_gpu,\n",
    ")\n",
    "print(f\"Loaded index with {index.ntotal} cells\")\n",
    "if isinstance(meta_labels[0], bytes):\n",
    "    meta_labels = meta_labels.astype(str)\n"
   ]
  },
  {
   "cell_type": "markdown",
   "metadata": {},
   "source": [
    "## ways to reduce the memory footprint of the index\n",
    "\n",
    "1. use smaller feature dimensions. Create an autoencoder or PCA before indexing? An issue with the projection will need to be updated now and then when a large trunk of new data is added to the atlas.\n",
    "    \n",
    "    1.1. Also, if using PCA, be aware that the different dimensions can have different variance scales. So it is important to use a distance metric such as l2 instead of cosine.\n",
    "    \n",
    "2. use smaller number of cells, such as meta cells. A naive way to select meta cells is to do an stratified sampling of the cells of different cell types in the atlas. The strategy can be tricky and will need to be updated when new data is added as well.\n",
    "\n",
    "    2.1 On one hand, using some meta cells may be needed. Since there can be too many cells, we want the found K neighbors to be representative enough, like they can cover enough range in the cell space. To make this more clear, some area in the cell space may be too dense comparing to other areas, this will make it an unfair higher chance of selecting cells in the region. So basically too approaches to relieve this (1) selecting meta cells more evenly spread, and then just retrieve in some meta cell space. (2) Post processing like normalized voting across cell types. A summarizing point is as follows, even if you want to use the approach (2), one will still need approach (1) because you will at least need cell states that should be covered actually get covered, so that then they can be re weighted during the voting process.\n",
    "\n",
    "    2.2 Using stratified sampling by annotated cell types is not appropriate, since the annotation schema can definitely change over time. So really need to make sure the meta cell selection is simply dependent on the raw data themselves.\n",
    "\n",
    "    2.3 Can think about using some layers of the hnswlib index as meta cells."
   ]
  },
  {
   "cell_type": "code",
   "execution_count": 3,
   "metadata": {},
   "outputs": [
    {
     "data": {
      "text/plain": [
       "['/scratch/ssd004/datasets/cellxgene/embed_dataset/ms-dataset/embed_0.h5ad']"
      ]
     },
     "execution_count": 3,
     "metadata": {},
     "output_type": "execute_result"
    }
   ],
   "source": [
    "# QUERY\n",
    "query_data_dir = \"/scratch/ssd004/datasets/cellxgene/embed_dataset/ms-dataset/\"\n",
    "# get all file under this dir\n",
    "query_data_path_list = os.listdir(query_data_dir)\n",
    "# query_data_path_list = [os.path.join(query_data_dir, i) for i in query_data_path_list]\n",
    "query_data_path_list = [\n",
    "    os.path.join(query_data_dir, i) for i in query_data_path_list if \"embed_0\" in i\n",
    "]\n",
    "query_data_path_list"
   ]
  },
  {
   "cell_type": "markdown",
   "metadata": {},
   "source": [
    "Another point is that when computing the retrieving process. Balancing the voting process by considering the different numbers of cells for each cell is essential. Maybe the voting weights can be normalized by the ratio of cells in the atlas. Also please have a look at existing literature about how they applied that."
   ]
  },
  {
   "cell_type": "code",
   "execution_count": 4,
   "metadata": {},
   "outputs": [],
   "source": [
    "query_embed_list = []\n",
    "query_meta_list = []\n",
    "for query_data_path in query_data_path_list:\n",
    "    data = sc.read_h5ad(query_data_path)\n",
    "    query_embed_list.append(data.X)\n",
    "    query_meta_list.append(data.obs[\"cell_type\"].values)\n",
    "    \n",
    "query_embed_array = np.concatenate(query_embed_list, axis=0)\n",
    "query_meta_array = np.concatenate(query_meta_list, axis=0)\n"
   ]
  },
  {
   "cell_type": "code",
   "execution_count": 25,
   "metadata": {},
   "outputs": [],
   "source": [
    "k = 100\n",
    "# test with the first 100 cells\n",
    "distances, idx = index.search(query_embed_array[:100], k)\n",
    "gt = query_meta_array[:100]"
   ]
  },
  {
   "cell_type": "code",
   "execution_count": 26,
   "metadata": {},
   "outputs": [],
   "source": [
    "matched_array = meta_labels[idx]\n",
    "from scipy.stats import mode\n",
    "\n",
    "voting = mode(matched_array, axis=1)[0]"
   ]
  },
  {
   "cell_type": "markdown",
   "metadata": {},
   "source": [
    "### TODO: need a weighted voting to balance the different ratio of celltypes in the reference atlas"
   ]
  },
  {
   "cell_type": "code",
   "execution_count": 27,
   "metadata": {},
   "outputs": [
    {
     "data": {
      "text/plain": [
       "array([['oligodendrocyte'],\n",
       "       ['central nervous system macrophage'],\n",
       "       ['oligodendrocyte'],\n",
       "       ['oligodendrocyte'],\n",
       "       ['oligodendrocyte'],\n",
       "       ['oligodendrocyte'],\n",
       "       ['oligodendrocyte'],\n",
       "       ['central nervous system macrophage'],\n",
       "       ['astrocyte'],\n",
       "       ['oligodendrocyte']], dtype='<U66')"
      ]
     },
     "execution_count": 27,
     "metadata": {},
     "output_type": "execute_result"
    }
   ],
   "source": [
    "voting[:10]"
   ]
  },
  {
   "cell_type": "code",
   "execution_count": 28,
   "metadata": {},
   "outputs": [
    {
     "data": {
      "text/plain": [
       "array(['oligodendrocyte A', 'PVALB-expressing interneuron',\n",
       "       'oligodendrocyte A', 'oligodendrocyte precursor cell',\n",
       "       'oligodendrocyte A', 'mixed glial cell?', 'mixed glial cell?',\n",
       "       'VIP-expressing interneuron', 'astrocyte',\n",
       "       'oligodendrocyte precursor cell'], dtype=object)"
      ]
     },
     "execution_count": 28,
     "metadata": {},
     "output_type": "execute_result"
    }
   ],
   "source": [
    "gt[:10]"
   ]
  },
  {
   "cell_type": "code",
   "execution_count": null,
   "metadata": {},
   "outputs": [],
   "source": []
  }
 ],
 "metadata": {
  "kernelspec": {
   "display_name": "env",
   "language": "python",
   "name": "python3"
  },
  "language_info": {
   "codemirror_mode": {
    "name": "ipython",
    "version": 3
   },
   "file_extension": ".py",
   "mimetype": "text/x-python",
   "name": "python",
   "nbconvert_exporter": "python",
   "pygments_lexer": "ipython3",
   "version": "3.7.13"
  },
  "orig_nbformat": 4
 },
 "nbformat": 4,
 "nbformat_minor": 2
}
