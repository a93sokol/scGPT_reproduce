{
 "cells": [
  {
   "cell_type": "code",
   "execution_count": 1,
   "metadata": {},
   "outputs": [],
   "source": [
    "import os\n",
    "import sys\n",
    "\n",
    "import numpy as np\n",
    "import faiss                   # make faiss available\n",
    "d = 64                           # dimension\n",
    "nb = 100000                      # database size\n",
    "nq = 10000                       # nb of queries\n",
    "np.random.seed(1234)             # make reproducible\n",
    "xb = np.random.random((nb, d)).astype('float32')\n",
    "xb[:, 0] += np.arange(nb) / 1000.\n",
    "xq = np.random.random((nq, d)).astype('float32')\n",
    "xq[:, 0] += np.arange(nq) / 1000.\n",
    "\n",
    "nlist = 100\n",
    "k = 4"
   ]
  },
  {
   "cell_type": "markdown",
   "metadata": {},
   "source": [
    "## [Faster Search](https://github.com/facebookresearch/faiss/wiki/Faster-search)"
   ]
  },
  {
   "cell_type": "code",
   "execution_count": 6,
   "metadata": {},
   "outputs": [
    {
     "name": "stdout",
     "output_type": "stream",
     "text": [
      "[[ 9900  9309  9810 10048]\n",
      " [11055 10895 10812 11321]\n",
      " [11353 10164  9787 10719]\n",
      " [10571 10664 10632 10203]\n",
      " [ 9628  9554  9582 10304]]\n"
     ]
    }
   ],
   "source": [
    "quantizer = faiss.IndexFlatL2(d)  # the other index\n",
    "index = faiss.IndexIVFFlat(quantizer, d, nlist)\n",
    "assert not index.is_trained\n",
    "index.train(xb)\n",
    "assert index.is_trained\n",
    "\n",
    "index.add(xb)                  # add may be a bit slower as well\n",
    "D, I = index.search(xq, k)     # actual search\n",
    "print(I[-5:])                  # neighbors of the 5 last queries\n",
    "index.nprobe = 10              # default nprobe is 1, try a few more\n"
   ]
  },
  {
   "cell_type": "code",
   "execution_count": 7,
   "metadata": {},
   "outputs": [
    {
     "name": "stdout",
     "output_type": "stream",
     "text": [
      "[[ 9900 10500  9309  9831]\n",
      " [11055 10895 10812 11321]\n",
      " [11353 11103 10164  9787]\n",
      " [10571 10664 10632  9638]\n",
      " [ 9628  9554 10036  9582]]\n",
      "CPU times: user 2.54 s, sys: 414 ms, total: 2.96 s\n",
      "Wall time: 648 ms\n"
     ]
    }
   ],
   "source": [
    "%%time\n",
    "D, I = index.search(xq, k)\n",
    "print(I[-5:])                  # neighbors of the 5 last queries"
   ]
  },
  {
   "cell_type": "markdown",
   "metadata": {},
   "source": [
    "## [Memory Efficient](https://github.com/facebookresearch/faiss/wiki/Lower-memory-footprint#simplifying-index-construction)"
   ]
  },
  {
   "cell_type": "code",
   "execution_count": 17,
   "metadata": {},
   "outputs": [
    {
     "name": "stdout",
     "output_type": "stream",
     "text": [
      "CPU times: user 7min 24s, sys: 4min 24s, total: 11min 49s\n",
      "Wall time: 2min 3s\n"
     ]
    }
   ],
   "source": [
    "%%time\n",
    "index = faiss.index_factory(d, \"IVF100,PQ8\")\n",
    "assert not index.is_trained\n",
    "index.train(xb)\n",
    "assert index.is_trained"
   ]
  },
  {
   "cell_type": "code",
   "execution_count": 21,
   "metadata": {},
   "outputs": [],
   "source": [
    "index.add(xb)"
   ]
  },
  {
   "cell_type": "code",
   "execution_count": 22,
   "metadata": {},
   "outputs": [],
   "source": [
    "index.nprobe = 10"
   ]
  },
  {
   "cell_type": "code",
   "execution_count": 23,
   "metadata": {},
   "outputs": [
    {
     "name": "stdout",
     "output_type": "stream",
     "text": [
      "[[   0   78  608  714]\n",
      " [   1 1063  555  208]\n",
      " [   2  304  134  179]\n",
      " [   3   64    8   16]\n",
      " [   4  288  531  159]]\n",
      "CPU times: user 1.12 ms, sys: 683 µs, total: 1.8 ms\n",
      "Wall time: 687 µs\n"
     ]
    }
   ],
   "source": [
    "%%time\n",
    "D, I = index.search(xb[:5], k) # sanity check\n",
    "print(I)"
   ]
  },
  {
   "cell_type": "markdown",
   "metadata": {},
   "source": [
    "## [Running on GPU](https://github.com/facebookresearch/faiss/wiki/Running-on-GPUs#in-python)"
   ]
  },
  {
   "cell_type": "code",
   "execution_count": 10,
   "metadata": {},
   "outputs": [],
   "source": [
    "res = faiss.StandardGpuResources()  # use a single GPU"
   ]
  },
  {
   "cell_type": "code",
   "execution_count": 11,
   "metadata": {},
   "outputs": [
    {
     "name": "stdout",
     "output_type": "stream",
     "text": [
      "CPU times: user 7.25 s, sys: 187 ms, total: 7.44 s\n",
      "Wall time: 3.07 s\n"
     ]
    }
   ],
   "source": [
    "%%time\n",
    "index = faiss.index_factory(d, \"IVF100,PQ8\")\n",
    "index = faiss.index_cpu_to_gpu(res, 0, index)\n",
    "assert not index.is_trained\n",
    "index.train(xb)\n",
    "assert index.is_trained"
   ]
  },
  {
   "cell_type": "code",
   "execution_count": 12,
   "metadata": {},
   "outputs": [],
   "source": [
    "index.add(xb)"
   ]
  },
  {
   "cell_type": "code",
   "execution_count": 13,
   "metadata": {},
   "outputs": [],
   "source": [
    "assert index.nprobe == 1\n",
    "index.nprobe = 10"
   ]
  },
  {
   "cell_type": "code",
   "execution_count": 17,
   "metadata": {},
   "outputs": [
    {
     "name": "stdout",
     "output_type": "stream",
     "text": [
      "[[   0   78  228   85]\n",
      " [   1  555 1063  277]\n",
      " [   2  304  134   33]\n",
      " [   3  139   16 1057]\n",
      " [   4  288    8  531]]\n",
      "CPU times: user 517 µs, sys: 54 µs, total: 571 µs\n",
      "Wall time: 567 µs\n"
     ]
    }
   ],
   "source": [
    "%%time\n",
    "D, I = index.search(xb[:5], k) # sanity check\n",
    "print(I)"
   ]
  },
  {
   "cell_type": "markdown",
   "metadata": {},
   "source": [
    "## [10M vectors index training on GPU](https://gist.github.com/mdouze/46d6bbbaabca0b9778fca37ed2bcccf6)"
   ]
  },
  {
   "cell_type": "code",
   "execution_count": 18,
   "metadata": {},
   "outputs": [],
   "source": [
    "# get some training data\n",
    "xt = faiss.rand((1000000, 128))"
   ]
  },
  {
   "cell_type": "code",
   "execution_count": 19,
   "metadata": {},
   "outputs": [],
   "source": [
    "index = faiss.index_factory(128, \"PCA64,IVF16384_HNSW32,Flat\")"
   ]
  },
  {
   "cell_type": "code",
   "execution_count": 20,
   "metadata": {},
   "outputs": [],
   "source": [
    "index_ivf = faiss.extract_index_ivf(index)\n",
    "clustering_index = faiss.index_cpu_to_all_gpus(faiss.IndexFlatL2(index_ivf.d))\n",
    "index_ivf.clustering_index = clustering_index"
   ]
  },
  {
   "cell_type": "code",
   "execution_count": 21,
   "metadata": {},
   "outputs": [
    {
     "name": "stdout",
     "output_type": "stream",
     "text": [
      "CPU times: user 11.5 s, sys: 2.81 s, total: 14.3 s\n",
      "Wall time: 7.06 s\n"
     ]
    }
   ],
   "source": [
    "%%time\n",
    "# training with GPU\n",
    "index.train(xt)"
   ]
  },
  {
   "cell_type": "code",
   "execution_count": 28,
   "metadata": {},
   "outputs": [
    {
     "name": "stdout",
     "output_type": "stream",
     "text": [
      "1000000\n"
     ]
    }
   ],
   "source": [
    "index.add(xt)\n",
    "print(index.ntotal)"
   ]
  },
  {
   "cell_type": "code",
   "execution_count": 33,
   "metadata": {},
   "outputs": [
    {
     "name": "stdout",
     "output_type": "stream",
     "text": [
      "CPU times: user 598 µs, sys: 47 µs, total: 645 µs\n",
      "Wall time: 377 µs\n",
      "[[     0  78792 296224 338379]\n",
      " [     1 528663 428339 361233]\n",
      " [     2 764229 168178 898249]\n",
      " [     3 428937 144700 218694]\n",
      " [     4 278144 464718 655490]]\n",
      "[[8.2384100e-13 5.3181753e+00 5.6431532e+00 5.7314663e+00]\n",
      " [1.1174395e-12 4.9125924e+00 5.0084486e+00 5.1111469e+00]\n",
      " [4.5996540e-13 4.7565913e+00 4.8978391e+00 5.1389451e+00]\n",
      " [1.3641865e-12 5.1118498e+00 5.2657881e+00 5.6154070e+00]\n",
      " [7.5450757e-13 5.5794878e+00 6.0319285e+00 6.4769058e+00]]\n"
     ]
    }
   ],
   "source": [
    "%time D, I = index.search(xt[:5], k) # sanity check\n",
    "print(I)\n",
    "print(D)"
   ]
  },
  {
   "cell_type": "markdown",
   "metadata": {},
   "source": [
    "## 10M vectors index on GPU"
   ]
  },
  {
   "cell_type": "code",
   "execution_count": 42,
   "metadata": {},
   "outputs": [],
   "source": [
    "# get some training data\n",
    "xt = faiss.rand((1000000, 128))"
   ]
  },
  {
   "cell_type": "code",
   "execution_count": 43,
   "metadata": {},
   "outputs": [],
   "source": [
    "index = faiss.index_factory(128, \"PCA64,IVF16384_HNSW32,Flat\")\n",
    "res = faiss.StandardGpuResources()  # use a single GPU"
   ]
  },
  {
   "cell_type": "code",
   "execution_count": 44,
   "metadata": {},
   "outputs": [
    {
     "name": "stdout",
     "output_type": "stream",
     "text": [
      "CPU times: user 15.1 s, sys: 4.08 s, total: 19.2 s\n",
      "Wall time: 13.8 s\n"
     ]
    }
   ],
   "source": [
    "%%time\n",
    "index = faiss.index_cpu_to_gpu(res, 0, index)\n",
    "assert not index.is_trained\n",
    "index.train(xt)\n",
    "assert index.is_trained"
   ]
  },
  {
   "cell_type": "code",
   "execution_count": null,
   "metadata": {},
   "outputs": [],
   "source": [
    "index = faiss.index_factory(128, \"OPQ16_64,IVF16384_HNSW32,PQ16\")\n",
    "res = faiss.StandardGpuResources()  # use a single GPU\n",
    "index = faiss.index_cpu_to_gpu(res, 0, index)\n",
    "assert not index.is_trained\n",
    "%time index.train(xt)\n",
    "assert index.is_trained\n",
    "\n",
    "# This does not run on the current gpu with the cuda version"
   ]
  },
  {
   "cell_type": "code",
   "execution_count": null,
   "metadata": {},
   "outputs": [],
   "source": [
    "index = faiss.index_factory(128, \"OPQ16_64,IVF16384_HNSW32,Flat\")\n",
    "res = faiss.StandardGpuResources()  # use a single GPU\n",
    "index = faiss.index_cpu_to_gpu(res, 0, index)\n",
    "assert not index.is_trained\n",
    "%time index.train(xt)\n",
    "assert index.is_trained\n",
    "\n",
    "# This does not run on the current gpu with the cuda version"
   ]
  },
  {
   "cell_type": "code",
   "execution_count": null,
   "metadata": {},
   "outputs": [],
   "source": [
    "index = faiss.index_factory(128, \"OPQ16_64,IVF16384_HNSW32,Flat\")\n",
    "\n",
    "index_ivf = faiss.extract_index_ivf(index)\n",
    "clustering_index = faiss.index_cpu_to_all_gpus(faiss.IndexFlatL2(index_ivf.d))\n",
    "index_ivf.clustering_index = clustering_index\n",
    "\n",
    "assert not index.is_trained\n",
    "%time index.train(xt)\n",
    "assert index.is_trained\n",
    "\n",
    "# This does not run on the current gpu with the cuda version"
   ]
  },
  {
   "cell_type": "code",
   "execution_count": 63,
   "metadata": {},
   "outputs": [
    {
     "name": "stdout",
     "output_type": "stream",
     "text": [
      "CPU times: user 21 s, sys: 3.75 s, total: 24.7 s\n",
      "Wall time: 14.7 s\n"
     ]
    }
   ],
   "source": [
    "index = faiss.index_factory(128, \"PCA64,IVF16384_HNSW32,PQ16x4fsr\")\n",
    "\n",
    "index_ivf = faiss.extract_index_ivf(index)\n",
    "clustering_index = faiss.index_cpu_to_all_gpus(faiss.IndexFlatL2(index_ivf.d))\n",
    "index_ivf.clustering_index = clustering_index\n",
    "\n",
    "assert not index.is_trained\n",
    "%time index.train(xt)\n",
    "assert index.is_trained\n"
   ]
  },
  {
   "cell_type": "code",
   "execution_count": 69,
   "metadata": {},
   "outputs": [
    {
     "name": "stdout",
     "output_type": "stream",
     "text": [
      "CPU times: user 22 s, sys: 3.66 s, total: 25.7 s\n",
      "Wall time: 15 s\n"
     ]
    }
   ],
   "source": [
    "index = faiss.index_factory(128, \"PCA64,IVF16384_HNSW32,PQ32x4fsr\")\n",
    "\n",
    "index_ivf = faiss.extract_index_ivf(index)\n",
    "clustering_index = faiss.index_cpu_to_all_gpus(faiss.IndexFlatL2(index_ivf.d))\n",
    "index_ivf.clustering_index = clustering_index\n",
    "\n",
    "assert not index.is_trained\n",
    "%time index.train(xt)\n",
    "assert index.is_trained\n"
   ]
  },
  {
   "cell_type": "code",
   "execution_count": 99,
   "metadata": {},
   "outputs": [
    {
     "name": "stdout",
     "output_type": "stream",
     "text": [
      "CPU times: user 25.2 s, sys: 3.76 s, total: 29 s\n",
      "Wall time: 17 s\n"
     ]
    }
   ],
   "source": [
    "index = faiss.index_factory(128, \"PCA64,IVF16384_HNSW32,PQ16\")\n",
    "res = faiss.StandardGpuResources()  # use a single GPU\n",
    "index = faiss.index_cpu_to_gpu(res, 0, index)\n",
    "assert not index.is_trained\n",
    "%time index.train(xt)\n",
    "assert index.is_trained"
   ]
  },
  {
   "cell_type": "code",
   "execution_count": 100,
   "metadata": {},
   "outputs": [
    {
     "name": "stdout",
     "output_type": "stream",
     "text": [
      "1000000\n"
     ]
    }
   ],
   "source": [
    "index.add(xt)\n",
    "print(index.ntotal)"
   ]
  },
  {
   "cell_type": "code",
   "execution_count": 104,
   "metadata": {},
   "outputs": [
    {
     "name": "stdout",
     "output_type": "stream",
     "text": [
      "285 µs ± 55.5 µs per loop (mean ± std. dev. of 3 runs, 1000 loops each)\n",
      "[[     0  29968 621621 296224]\n",
      " [     1 361233 528663  18251]\n",
      " [     2 159180 168178 448653]\n",
      " [     3 552619 428937 144700]\n",
      " [     4 278144 464718 928596]]\n",
      "[[0.4225589  4.052941   5.045701   5.2467833 ]\n",
      " [0.3379284  4.6040754  4.859063   5.081909  ]\n",
      " [0.26284543 4.511919   4.5418663  4.651175  ]\n",
      " [0.3073234  4.9794188  5.1886125  5.3649845 ]\n",
      " [0.4272653  5.4172373  5.7246256  6.134384  ]]\n"
     ]
    }
   ],
   "source": [
    "%timeit -r 3 -n 1000 D, I = index.search(xt[:5], k) # sanity check\n",
    "print(I)\n",
    "print(D)"
   ]
  },
  {
   "cell_type": "markdown",
   "metadata": {},
   "source": [
    "## [Index IO](https://github.com/facebookresearch/faiss/wiki/Index-IO,-cloning-and-hyper-parameter-tuning#io-and-deep-copying-indexes)"
   ]
  },
  {
   "cell_type": "code",
   "execution_count": 86,
   "metadata": {},
   "outputs": [],
   "source": [
    "# # check if the index is on the GPU\n",
    "# INDEX_ON_GPU = isinstance(index, (faiss.GpuIndex, faiss.GpuResources))\n",
    "# print(f\"Index on GPU? {INDEX_ON_GPU}\")\n",
    "\n",
    "# may use\n",
    "# try:\n",
    "#     faiss.index_cpu_to_gpu(res, 0, index)"
   ]
  },
  {
   "cell_type": "code",
   "execution_count": 105,
   "metadata": {},
   "outputs": [
    {
     "name": "stdout",
     "output_type": "stream",
     "text": [
      "probably GPU index. Will try to move to CPU and save again\n",
      "Original error: Error in void faiss::write_index(const faiss::Index*, faiss::IOWriter*) at /home/conda/feedstock_root/build_artifacts/faiss-split_1644327786058/work/faiss/impl/index_write.cpp:590: don't know how to serialize this type of index\n",
      "Size of the index: 27.170928955078125 MB\n"
     ]
    }
   ],
   "source": [
    "# write to disk and check the size of the saved file\n",
    "file_path = \"/tmp/index.faiss\"\n",
    "try:\n",
    "    faiss.write_index(index, file_path)\n",
    "except RuntimeError as e:\n",
    "    print(\"probably GPU index. Will try to move to CPU and save again\")\n",
    "    print(f\"Original error: {e}\")\n",
    "    index = faiss.index_gpu_to_cpu(index)\n",
    "    faiss.write_index(index, file_path)\n",
    "\n",
    "size_in_MB = os.path.getsize(file_path) / 1024 / 1024\n",
    "print(f\"Size of the index: {size_in_MB} MB\")"
   ]
  },
  {
   "cell_type": "code",
   "execution_count": 112,
   "metadata": {},
   "outputs": [
    {
     "name": "stdout",
     "output_type": "stream",
     "text": [
      "1000000\n"
     ]
    }
   ],
   "source": [
    "# test loading\n",
    "index = faiss.read_index(file_path)\n",
    "print(index.ntotal)"
   ]
  },
  {
   "cell_type": "code",
   "execution_count": 113,
   "metadata": {},
   "outputs": [
    {
     "name": "stdout",
     "output_type": "stream",
     "text": [
      "976 µs ± 125 µs per loop (mean ± std. dev. of 3 runs, 1000 loops each)\n",
      "[[     0  29968 472524 645664]\n",
      " [     1  47593 504210 910686]\n",
      " [     2 675420 159396 963202]\n",
      " [     3 625427 552619 428937]\n",
      " [     4 307978 560944 121648]]\n",
      "[[0.4225589  4.052941   4.2326136  4.3569345 ]\n",
      " [0.3379284  3.4400072  4.4045725  4.4127164 ]\n",
      " [0.26284543 3.7331626  3.787204   3.8115711 ]\n",
      " [0.3073234  4.755132   4.9794188  5.1886125 ]\n",
      " [0.4272653  4.919924   4.93617    5.000271  ]]\n"
     ]
    }
   ],
   "source": [
    "%timeit -r 3 -n 1000 D, I = index.search(xt[:5], k) # sanity check\n",
    "print(I)\n",
    "print(D)"
   ]
  },
  {
   "cell_type": "code",
   "execution_count": 114,
   "metadata": {},
   "outputs": [
    {
     "name": "stdout",
     "output_type": "stream",
     "text": [
      "Original nprobe: 1\n",
      "nprobe: 1\n",
      "nlist: 16384\n",
      "nprobe set to: 128\n"
     ]
    }
   ],
   "source": [
    "# Original nprobe\n",
    "print(f\"Original nprobe: {faiss.downcast_index(index.index).nprobe}\")\n",
    "# unwind the index to find the nprobe and nlist\n",
    "index_ivf = faiss.extract_index_ivf(index)\n",
    "print(f\"nprobe: {index_ivf.nprobe}\")\n",
    "print(f\"nlist: {index_ivf.nlist}\")\n",
    "index_ivf.nprobe = 128\n",
    "# check the nprobe has been changed\n",
    "print(f\"nprobe set to: {faiss.downcast_index(index.index).nprobe}\")"
   ]
  },
  {
   "cell_type": "code",
   "execution_count": 115,
   "metadata": {},
   "outputs": [
    {
     "name": "stdout",
     "output_type": "stream",
     "text": [
      "2.26 ms ± 523 µs per loop (mean ± std. dev. of 3 runs, 1000 loops each)\n",
      "[[     0  29968 472524 645664]\n",
      " [     1  47593 504210 910686]\n",
      " [     2 675420 159396 963202]\n",
      " [     3 625427 552619 428937]\n",
      " [     4 307978 560944 121648]]\n",
      "[[0.4225589  4.052941   4.2326136  4.3569345 ]\n",
      " [0.3379284  3.4400072  4.4045725  4.4127164 ]\n",
      " [0.26284543 3.7331626  3.787204   3.8115711 ]\n",
      " [0.3073234  4.755132   4.9794188  5.1886125 ]\n",
      " [0.4272653  4.919924   4.93617    5.000271  ]]\n"
     ]
    }
   ],
   "source": [
    "%timeit -r 3 -n 1000 D, I = index.search(xt[:5], k) # sanity check\n",
    "print(I)\n",
    "print(D)"
   ]
  },
  {
   "cell_type": "code",
   "execution_count": 116,
   "metadata": {},
   "outputs": [
    {
     "name": "stdout",
     "output_type": "stream",
     "text": [
      "671 µs ± 55.8 µs per loop (mean ± std. dev. of 3 runs, 1000 loops each)\n",
      "[[     0  29968 472524 645664]\n",
      " [     1  47593 504210 910686]\n",
      " [     2 675420 159396 963202]\n",
      " [     3 625427 552619 428937]\n",
      " [     4 307978 560944 121648]]\n",
      "[[0.4225589  4.052941   4.2326136  4.3569345 ]\n",
      " [0.3379284  3.4400072  4.4045725  4.4127164 ]\n",
      " [0.26284543 3.7331626  3.787204   3.8115711 ]\n",
      " [0.3073234  4.755132   4.9794188  5.1886125 ]\n",
      " [0.4272653  4.919924   4.93617    5.000271  ]]\n"
     ]
    }
   ],
   "source": [
    "index = faiss.index_cpu_to_gpu(res, 0, index)\n",
    "%timeit -r 3 -n 1000 D, I = index.search(xt[:5], k) # sanity check\n",
    "print(I)\n",
    "print(D)"
   ]
  },
  {
   "cell_type": "code",
   "execution_count": null,
   "metadata": {},
   "outputs": [],
   "source": []
  }
 ],
 "metadata": {
  "kernelspec": {
   "display_name": "scgpt",
   "language": "python",
   "name": "python3"
  },
  "language_info": {
   "codemirror_mode": {
    "name": "ipython",
    "version": 3
   },
   "file_extension": ".py",
   "mimetype": "text/x-python",
   "name": "python",
   "nbconvert_exporter": "python",
   "pygments_lexer": "ipython3",
   "version": "3.7.13"
  },
  "orig_nbformat": 4
 },
 "nbformat": 4,
 "nbformat_minor": 2
}
